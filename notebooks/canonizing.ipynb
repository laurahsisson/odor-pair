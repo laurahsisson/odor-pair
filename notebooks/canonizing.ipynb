{
 "cells": [
  {
   "cell_type": "code",
   "execution_count": 2,
   "id": "86d2dac8-476e-437e-92e7-78423d8b3e9e",
   "metadata": {
    "tags": []
   },
   "outputs": [
    {
     "data": {
      "text/plain": [
       "399"
      ]
     },
     "execution_count": 2,
     "metadata": {},
     "output_type": "execute_result"
    }
   ],
   "source": [
    "all_notes = ['absinthe', 'acacia', 'acetic', 'acetone', 'acidic', 'acorn', 'acrylate', 'agarwood', 'alcoholic', 'aldehydic', 'algae', 'alliaceous', 'allspice', 'almond', 'almond bitter almond', 'almond roasted almond', 'almond toasted almond', 'amber', 'ambergris', 'ambrette', 'ammoniacal', 'angelica', 'animal', 'anise', 'anisic', 'apple', 'apple cooked apple', 'apple dried apple', 'apple green apple', 'apple skin', 'apricot', 'aromatic', 'arrack', 'artichoke', 'asparagus', 'astringent', 'autumn', 'bacon', 'baked', 'balsamic', 'banana', 'banana peel', 'banana ripe banana', 'banana unripe banana', 'barley roasted barley', 'basil', 'bay', 'bean green bean', 'beany', 'beef juice', 'beefy', 'beefy roasted beefy', 'beeswax', 'benzoin', 'bergamot', 'berry', 'berry ripe berry', 'bitter', 'blackberry', 'bloody', 'blueberry', 'bois de rose', 'boronia', 'bouillon', 'brandy', 'bread baked', 'bread crust', 'bread rye bread', 'bready', 'broccoli', 'brothy', 'brown', 'bubble gum', 'buchu', 'burnt', 'buttermilk', 'butterscotch', 'buttery', 'cabbage', 'camphoreous', 'cananga', 'candy', 'cantaloupe', 'capers', 'caramellic', 'caraway', 'cardamom', 'carnation', 'carrot', 'carrot seed', 'carvone', 'cashew', 'cassia', 'castoreum', 'catty', 'cauliflower', 'cedar', 'cedarwood', 'celery', 'cereal', 'chamomile', 'charred', 'cheesy', 'cheesy bleu cheese', 'cheesy feta cheese', 'cheesy limburger cheese', 'cheesy parmesan cheese', 'cheesy roquefort cheese', 'chemical', 'cherry', 'cherry maraschino cherry', 'chervil', 'chicken', 'chicken coup', 'chicken fat', 'chicken roasted chicken', 'chicory', 'chocolate', 'chocolate dark chocolate', 'chrysanthemum', 'cider', 'cilantro', 'cinnamon', 'cinnamyl', 'cistus', 'citronella', 'citrus', 'citrus peel', 'citrus rind', 'civet', 'clam', 'clean', 'cloth laundered cloth', 'clove', 'clover', 'cocoa', 'coconut', 'coffee', 'coffee roasted coffee', 'cognac', 'cologne', 'cooked', 'cookie', 'cooling', 'coriander', 'corn', 'corn chip', 'cornmint', 'cortex', 'costus', 'cotton candy', 'coumarinic', 'cranberry', 'creamy', 'cucumber', 'cucumber skin', 'cumin', 'currant black currant', 'currant bud black currant bud', 'custard', 'cyclamen', 'cypress', 'dairy', 'date', 'davana', 'dewy', 'dill', 'dirty', 'dry', 'durian', 'dusty', 'earthy', 'egg nog', 'eggy', 'elderflower', 'elemi', 'estery', 'ethereal', 'eucalyptus', 'fatty', 'fecal', 'fennel', 'fenugreek', 'fermented', 'fig', 'filbert', 'fir needle', 'fishy', 'fleshy', 'floral', 'foliage', 'forest', 'frankincense', 'freesia', 'fresh', 'fresh outdoors', 'fried', 'fruit dried fruit', 'fruit overripe fruit', 'fruit ripe fruit', 'fruit tropical fruit', 'fruity', 'fungal', 'fusel', 'galbanum', 'gardenia', 'garlic', 'gasoline', 'gassy', 'genet', 'geranium', 'ginger', 'goaty', 'gooseberry', 'gourmand', 'graham cracker', 'grain', 'grain toasted grain', 'grape', 'grape skin', 'grapefruit', 'grapefruit peel', 'grassy', 'gravy', 'greasy', 'green', 'grilled', 'guaiacol', 'guaiacwood', 'guava', 'hairy', 'ham', 'hawthorn', 'hay', 'hay new mown hay', 'hazelnut', 'hazelnut roasted hazelnut', 'heliotrope', 'herbal', 'honey', 'honeydew', 'honeysuckle', 'horseradish', 'humus', 'hyacinth', 'immortelle', 'incense', 'jackfruit', 'jammy', 'jasmin', 'juicy', 'juicy fruit', 'juniper', 'ketonic', 'kiwi', 'labdanum', 'lactonic', 'lamb', 'lard', 'lavender', 'leafy', 'leathery', 'leek', 'lemon', 'lemon peel', 'lemongrass', 'lettuce', 'licorice', 'licorice black licorice', 'lilac', 'lily', 'lily of the valley', 'lime', 'linden flower', 'liver', 'loganberry', 'lovage', 'lychee', 'mace', 'magnolia', 'mahogany', 'malty', 'mandarin', 'mango', 'maple', 'marine', 'marjoram', 'marzipan', 'meaty', 'meaty roasted meaty', 'medicinal', 'melon', 'melon rind', 'mentholic', 'metallic', 'milky', 'mimosa', 'minty', 'molasses', 'moldy', 'mossy', 'muguet', 'mushroom', 'musk', 'mustard', 'musty', 'mutton', 'myrrh', 'naphthyl', 'narcissus', 'nasturtium', 'natural', 'neroli', 'nut flesh', 'nut skin', 'nutmeg', 'nutty', 'oakmoss', 'oily', 'onion', 'onion cooked onion', 'onion green onion', 'opoponax', 'orange', 'orange bitter orange', 'orange peel', 'orange rind', 'orangeflower', 'orchid', 'oriental', 'origanum', 'orris', 'osmanthus', 'ozone', 'painty', 'palmarosa', 'papaya', 'paper', 'parsley', 'passion fruit', 'patchouli', 'pea green pea', 'peach', 'peanut', 'peanut butter', 'peanut roasted peanut', 'pear', 'pear skin', 'peely', 'peony', 'pepper bell pepper', 'pepper black pepper', 'peppermint', 'peppery', 'petal', 'petitgrain', 'petroleum', 'phenolic', 'pine', 'pineapple', 'pistachio', 'plastic', 'plum', 'plum skin', 'pomegranate', 'popcorn', 'pork', 'potato', 'potato baked potato', 'potato chip', 'potato raw potato', 'powdery', 'praline', 'privet', 'privetblossom', 'prune', 'pulpy', 'pumpkin', 'pungent', 'quince', 'radish', 'raisin', 'rancid', 'raspberry', 'raw', 'reseda', 'resinous', 'rhubarb', 'rindy', 'ripe', 'roasted', 'root beer', 'rooty', 'rose', 'rose dried rose', 'rose red rose', 'rose tea rose', 'rosemary', 'rubbery', 'rue', 'rummy', 'saffron', 'sage', 'sage clary sage', 'salty', 'sandalwood', 'sandy', 'sappy', 'sarsaparilla', 'sassafrass', 'sausage smoked sausage', 'savory', 'sawdust', 'scallion', 'seafood', 'seashore', 'seaweed', 'seedy', 'sharp', 'shellfish', 'shrimp', 'skunk', 'smoky', 'soapy', 'soft', 'solvent', 'soup', 'sour', 'spearmint', 'spicy', 'spinach', 'starfruit', 'storax', 'strawberry', 'styrene', 'sugar', 'sugar brown sugar', 'sugar burnt sugar', 'sulfurous', 'sweaty', 'sweet', 'sweet pea', 'taco', 'tagette', 'tallow', 'tangerine', 'tarragon', 'tart', 'tea', 'tea black tea', 'tea green tea', 'tequila', 'terpenic', 'thujonic', 'thyme', 'toasted', 'tobacco', 'toffee', 'tolu balsam', 'tomato', 'tomato leaf', 'tonka', 'tropical', 'truffle', 'tuberose', 'turkey', 'turnup', 'tutti frutti', 'valerian root', 'vanilla', 'vegetable', 'verbena', 'vetiver', 'vinegar', 'violet', 'violet leaf', 'walnut', 'warm', 'wasabi', 'watercress', 'watermelon', 'watermelon rind', 'watery', 'waxy', 'weedy', 'wet', 'whiskey', 'winey', 'wintergreen', 'woody', 'woody burnt wood', 'woody old wood', 'wormwood', 'yeasty', 'ylang', 'zesty']\n",
    "\n",
    "merger_dict = \\\n",
    "{'almond': ['almond','almond bitter almond','almond roasted almond','almond toasted almond'],\n",
    " 'amber': ['amber', 'ambergris'],\n",
    " 'apple': ['apple','apple cooked apple','apple dried apple','apple green apple','apple skin'],\n",
    " 'banana': ['banana','banana peel','banana ripe banana','banana unripe banana'],\n",
    " 'beefy': ['beefy roasted beefy', 'beef', 'beef juice', 'beefy'],\n",
    " 'berry': ['berry', 'berry ripe berry'],\n",
    " 'bitter': ['almond bitter almond', 'bitter', 'orange bitter orange'],\n",
    " 'black currant': ['currant black currant', 'currant bud black currant bud'],\n",
    " 'burnt': ['burnt', 'sugar burnt sugar', 'woody burnt wood'],\n",
    " 'cedar': ['cedar', 'cedarwood'],\n",
    " 'cheesy': ['cheese','cheesy limburger cheese','cheesy parmesan cheese','cheesy','cheesy roquefort cheese','cheesy feta cheese','cheesy bleu cheese'],\n",
    " 'cherry': ['cherry', 'cherry maraschino cherry'],\n",
    " 'chocolate': ['chocolate', 'chocolate dark chocolate'],\n",
    " 'citrus': ['citralva','citric','citronellal','citrus rind','citronella','citral','citrus','citrus peel'],\n",
    " 'coffee': ['coffee', 'coffee roasted coffee'],\n",
    " 'cucumber': ['cucumber', 'cucumber skin'],\n",
    " 'fresh': ['fresh', 'fresh outdoors', 'freshly'],\n",
    " 'grape': ['concord grape', 'grape', 'grape skin'],\n",
    " 'grapefruit': ['grapefruit', 'grapefruit peel', 'grapfruit'],\n",
    " 'green': ['apple green apple','bean green bean','green','clover','pea green pea','tea green tea'],\n",
    " 'hay': ['hay', 'hay new mown hay', 'new mown hay'],\n",
    " 'hazelnut': ['hazelnut', 'hazelnut roasted hazelnut'],\n",
    " 'honey': ['honey', 'honeydew', 'honeysuckle'],\n",
    " 'juicy': ['juicy', 'juicy fruit'],\n",
    " 'lemon': ['lemon peel', 'lime', 'lemon', 'lemongrass'],\n",
    " 'lily': ['lily of the valley', 'lily-of-the-valley', 'lily', 'lilial'],\n",
    " 'meaty': ['meaty roasted meaty', 'meat', 'meaty'],\n",
    " 'melon': ['melon', 'melon rind', 'melon unripe melon', 'watermelon rind'],\n",
    " 'mint': ['cornmint', 'peppermint', 'mint', 'minty', 'spearmint'],\n",
    " 'musk': ['musky', 'musk', 'ambrette', 'nitromusk'],\n",
    " 'odorless': ['almost odorless', 'odorless'],\n",
    " 'onion': ['onion', 'onion cooked onion', 'onion green onion'],\n",
    " 'orange': ['orange', 'orange bitter orange', 'orange peel', 'orange rind'],\n",
    " 'pear': ['pear', 'pear skin'],\n",
    " 'plum': ['plum', 'plum skin'],\n",
    " 'potato': ['potato','potato baked potato','potato chip','potato raw potato'],\n",
    " 'ripe': ['banana ripe banana','banana unripe banana','berry ripe berry','fruit overripe fruit','fruit ripe fruit','ripe'],\n",
    " 'roasted': ['barley roasted barley','chicken roasted chicken','grain toasted grain','almond roasted almond','peanut roasted peanut','hazelnut roasted hazelnut','coffee roasted coffee','beefy roasted beefy','meaty roasted meaty','roasted'],\n",
    " 'rose': ['rose red rose','rose','rose tea rose','rose dried rose','bois de rose','rosy','rosey'],\n",
    " 'tea': ['rose tea rose', 'tea', 'tea black tea', 'tea green tea'],\n",
    " 'vegetable': ['vegetable', 'vegetables'],\n",
    " 'woody': ['wood','woody','woody-lactone','woody old wood','woody burnt wood'],\n",
    " 'grassy': ['lemongrass', 'grassy', 'grass'],\n",
    " 'lactonic': ['woody-lactone', 'lactonic', 'lactone'],\n",
    " 'leafy': ['leafy', 'tomato leaf', 'leaf', 'violet leaf'],\n",
    " 'fruit skin': ['apple skin','grape skin','pear skin','plum skin','orange peel','banana peel','citrus peel','grapefruit peel','lemon peel'],\n",
    " 'fruity': ['fruit','fruit ripe fruit','juicy fruit','fruit overripe fruit','fruit tropical fruit','fruit dried fruit','fruity'],\n",
    " 'dry': ['dried','dry','fruit dried fruit','rose dried rose','apple dried apple'],\n",
    " 'spicy': ['allspice', 'spicy', 'nutmeg', 'spice', 'rosemary'],\n",
    " 'anisic': ['anise', 'anisic'],\n",
    " 'balsamic': ['balsam', 'balsamic', 'tolu balsam'],\n",
    " 'privet': ['privet', 'privetblossom'],\n",
    " 'camphoreous': ['camphor', 'camphoreous'],\n",
    " 'caramellic': ['caramel', 'caramellic'],\n",
    " 'carrot': ['carrot', 'carrot seed'],\n",
    " 'cooling': ['cool', 'cooling'],\n",
    " 'coumarinic': ['coumarin', 'coumarinic'],\n",
    " 'ethereal': ['ether', 'ethereal'],\n",
    " 'metallic': ['metal', 'metallic'],\n",
    " 'sulfurous': ['sulfurous', 'sulfury'],\n",
    " 'terpenic': ['terpene', 'terpenic', 'terpentine'],\n",
    " 'buttery': ['butter', 'buttery'],\n",
    " 'cinnamon': ['cinnamon', 'cinnamyl'],\n",
    " 'fatty': ['chicken fat', 'fatty'],\n",
    " 'fishy': ['fish', 'fishy', 'shellfish'],\n",
    " 'herbal': ['herb', 'herbaceous', 'herbal'],\n",
    " 'milky': ['milk', 'milky'],\n",
    " 'nutty': ['nut', 'nut flesh', 'nut skin', 'nutty'],\n",
    " 'oily': ['oil', 'oily'],\n",
    " 'radish': ['horseradish', 'radish'],\n",
    " 'rummy': ['rum', 'rummy'],\n",
    " 'smoky': ['sausage smoked sausage', 'smoky'],\n",
    " 'bready': ['bread baked', 'bread crust', 'bread rye bread', 'bready'],\n",
    " 'licorice': ['licorice', 'licorice black licorice'],\n",
    " 'sweaty': ['sweat', 'sweaty'],\n",
    " 'winey': ['wine', 'winey'],\n",
    " 'thujonic': ['absinthe','thujonic'],\n",
    " 'floral': ['floral', 'flower', 'flowers', 'flowery']}\n",
    "\n",
    "full_canonize = {note: canon for canon, notes in merger_dict.items() for note in notes}\n",
    "def canonize(notes):\n",
    "    return sorted(list({full_canonize[note] if note in full_canonize else note for note in notes}))\n",
    "len(canonize(all_notes))"
   ]
  },
  {
   "cell_type": "code",
   "execution_count": 6,
   "id": "2271f11d-a953-4c22-bf84-bd84824ec2b5",
   "metadata": {
    "tags": []
   },
   "outputs": [
    {
     "data": {
      "text/plain": [
       "(109, 496)"
      ]
     },
     "execution_count": 6,
     "metadata": {},
     "output_type": "execute_result"
    }
   ],
   "source": [
    "import json\n",
    "import collections\n",
    "\n",
    "with open(\"../dataset/full.json\") as f:\n",
    "    full_data = json.load(f)\n",
    "\n",
    "all_blend_notes = collections.Counter()\n",
    "all_single_notes = collections.Counter()\n",
    "\n",
    "for d in full_data:\n",
    "    all_blend_notes.update(d[\"blend_notes\"])\n",
    "    all_single_notes.update(d[\"mol1_notes\"])\n",
    "    all_single_notes.update(d[\"mol2_notes\"])\n",
    "    \n",
    "len(all_blend_notes), len(all_single_notes)"
   ]
  },
  {
   "cell_type": "code",
   "execution_count": 9,
   "id": "aef175ca-1e7e-44fd-a815-274a2fa15cf9",
   "metadata": {
    "tags": []
   },
   "outputs": [],
   "source": [
    "single_cooccurs = {n:collections.Counter() for n,_ in all_single_notes.most_common()}\n",
    "for d in full_data:\n",
    "    for n in d[\"mol1_notes\"]:\n",
    "        single_cooccurs[n].update(d[\"mol1_notes\"])\n",
    "    for n in d[\"mol2_notes\"]:\n",
    "        single_cooccurs[n].update(d[\"mol2_notes\"])"
   ]
  },
  {
   "cell_type": "code",
   "execution_count": 10,
   "id": "2d73b1ab-e62b-4b12-92a4-dd8cc749360f",
   "metadata": {
    "tags": []
   },
   "outputs": [],
   "source": [
    "all_single_notes = {n:-f for n,f in all_single_notes.most_common()}\n",
    "# The thing is we will have to update all the coocurrence matrices every step lol\n",
    "# "
   ]
  },
  {
   "cell_type": "code",
   "execution_count": null,
   "id": "135b1d15-1908-40c1-9e58-288ca412c7b2",
   "metadata": {},
   "outputs": [],
   "source": [
    "Combinine least frequent element its most frequent cooccur.\n",
    "Do until we hit some limit"
   ]
  }
 ],
 "metadata": {
  "kernelspec": {
   "display_name": "Python 3 (ipykernel)",
   "language": "python",
   "name": "python3"
  },
  "language_info": {
   "codemirror_mode": {
    "name": "ipython",
    "version": 3
   },
   "file_extension": ".py",
   "mimetype": "text/x-python",
   "name": "python",
   "nbconvert_exporter": "python",
   "pygments_lexer": "ipython3",
   "version": "3.11.5"
  }
 },
 "nbformat": 4,
 "nbformat_minor": 5
}
