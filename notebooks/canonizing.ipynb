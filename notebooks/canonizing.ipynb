{
 "cells": [
  {
   "cell_type": "code",
   "execution_count": 1,
   "id": "86d2dac8-476e-437e-92e7-78423d8b3e9e",
   "metadata": {
    "tags": []
   },
   "outputs": [
    {
     "data": {
      "text/plain": [
       "399"
      ]
     },
     "execution_count": 1,
     "metadata": {},
     "output_type": "execute_result"
    }
   ],
   "source": [
    "all_notes = ['absinthe', 'acacia', 'acetic', 'acetone', 'acidic', 'acorn', 'acrylate', 'agarwood', 'alcoholic', 'aldehydic', 'algae', 'alliaceous', 'allspice', 'almond', 'almond bitter almond', 'almond roasted almond', 'almond toasted almond', 'amber', 'ambergris', 'ambrette', 'ammoniacal', 'angelica', 'animal', 'anise', 'anisic', 'apple', 'apple cooked apple', 'apple dried apple', 'apple green apple', 'apple skin', 'apricot', 'aromatic', 'arrack', 'artichoke', 'asparagus', 'astringent', 'autumn', 'bacon', 'baked', 'balsamic', 'banana', 'banana peel', 'banana ripe banana', 'banana unripe banana', 'barley roasted barley', 'basil', 'bay', 'bean green bean', 'beany', 'beef juice', 'beefy', 'beefy roasted beefy', 'beeswax', 'benzoin', 'bergamot', 'berry', 'berry ripe berry', 'bitter', 'blackberry', 'bloody', 'blueberry', 'bois de rose', 'boronia', 'bouillon', 'brandy', 'bread baked', 'bread crust', 'bread rye bread', 'bready', 'broccoli', 'brothy', 'brown', 'bubble gum', 'buchu', 'burnt', 'buttermilk', 'butterscotch', 'buttery', 'cabbage', 'camphoreous', 'cananga', 'candy', 'cantaloupe', 'capers', 'caramellic', 'caraway', 'cardamom', 'carnation', 'carrot', 'carrot seed', 'carvone', 'cashew', 'cassia', 'castoreum', 'catty', 'cauliflower', 'cedar', 'cedarwood', 'celery', 'cereal', 'chamomile', 'charred', 'cheesy', 'cheesy bleu cheese', 'cheesy feta cheese', 'cheesy limburger cheese', 'cheesy parmesan cheese', 'cheesy roquefort cheese', 'chemical', 'cherry', 'cherry maraschino cherry', 'chervil', 'chicken', 'chicken coup', 'chicken fat', 'chicken roasted chicken', 'chicory', 'chocolate', 'chocolate dark chocolate', 'chrysanthemum', 'cider', 'cilantro', 'cinnamon', 'cinnamyl', 'cistus', 'citronella', 'citrus', 'citrus peel', 'citrus rind', 'civet', 'clam', 'clean', 'cloth laundered cloth', 'clove', 'clover', 'cocoa', 'coconut', 'coffee', 'coffee roasted coffee', 'cognac', 'cologne', 'cooked', 'cookie', 'cooling', 'coriander', 'corn', 'corn chip', 'cornmint', 'cortex', 'costus', 'cotton candy', 'coumarinic', 'cranberry', 'creamy', 'cucumber', 'cucumber skin', 'cumin', 'currant black currant', 'currant bud black currant bud', 'custard', 'cyclamen', 'cypress', 'dairy', 'date', 'davana', 'dewy', 'dill', 'dirty', 'dry', 'durian', 'dusty', 'earthy', 'egg nog', 'eggy', 'elderflower', 'elemi', 'estery', 'ethereal', 'eucalyptus', 'fatty', 'fecal', 'fennel', 'fenugreek', 'fermented', 'fig', 'filbert', 'fir needle', 'fishy', 'fleshy', 'floral', 'foliage', 'forest', 'frankincense', 'freesia', 'fresh', 'fresh outdoors', 'fried', 'fruit dried fruit', 'fruit overripe fruit', 'fruit ripe fruit', 'fruit tropical fruit', 'fruity', 'fungal', 'fusel', 'galbanum', 'gardenia', 'garlic', 'gasoline', 'gassy', 'genet', 'geranium', 'ginger', 'goaty', 'gooseberry', 'gourmand', 'graham cracker', 'grain', 'grain toasted grain', 'grape', 'grape skin', 'grapefruit', 'grapefruit peel', 'grassy', 'gravy', 'greasy', 'green', 'grilled', 'guaiacol', 'guaiacwood', 'guava', 'hairy', 'ham', 'hawthorn', 'hay', 'hay new mown hay', 'hazelnut', 'hazelnut roasted hazelnut', 'heliotrope', 'herbal', 'honey', 'honeydew', 'honeysuckle', 'horseradish', 'humus', 'hyacinth', 'immortelle', 'incense', 'jackfruit', 'jammy', 'jasmin', 'juicy', 'juicy fruit', 'juniper', 'ketonic', 'kiwi', 'labdanum', 'lactonic', 'lamb', 'lard', 'lavender', 'leafy', 'leathery', 'leek', 'lemon', 'lemon peel', 'lemongrass', 'lettuce', 'licorice', 'licorice black licorice', 'lilac', 'lily', 'lily of the valley', 'lime', 'linden flower', 'liver', 'loganberry', 'lovage', 'lychee', 'mace', 'magnolia', 'mahogany', 'malty', 'mandarin', 'mango', 'maple', 'marine', 'marjoram', 'marzipan', 'meaty', 'meaty roasted meaty', 'medicinal', 'melon', 'melon rind', 'mentholic', 'metallic', 'milky', 'mimosa', 'minty', 'molasses', 'moldy', 'mossy', 'muguet', 'mushroom', 'musk', 'mustard', 'musty', 'mutton', 'myrrh', 'naphthyl', 'narcissus', 'nasturtium', 'natural', 'neroli', 'nut flesh', 'nut skin', 'nutmeg', 'nutty', 'oakmoss', 'oily', 'onion', 'onion cooked onion', 'onion green onion', 'opoponax', 'orange', 'orange bitter orange', 'orange peel', 'orange rind', 'orangeflower', 'orchid', 'oriental', 'origanum', 'orris', 'osmanthus', 'ozone', 'painty', 'palmarosa', 'papaya', 'paper', 'parsley', 'passion fruit', 'patchouli', 'pea green pea', 'peach', 'peanut', 'peanut butter', 'peanut roasted peanut', 'pear', 'pear skin', 'peely', 'peony', 'pepper bell pepper', 'pepper black pepper', 'peppermint', 'peppery', 'petal', 'petitgrain', 'petroleum', 'phenolic', 'pine', 'pineapple', 'pistachio', 'plastic', 'plum', 'plum skin', 'pomegranate', 'popcorn', 'pork', 'potato', 'potato baked potato', 'potato chip', 'potato raw potato', 'powdery', 'praline', 'privet', 'privetblossom', 'prune', 'pulpy', 'pumpkin', 'pungent', 'quince', 'radish', 'raisin', 'rancid', 'raspberry', 'raw', 'reseda', 'resinous', 'rhubarb', 'rindy', 'ripe', 'roasted', 'root beer', 'rooty', 'rose', 'rose dried rose', 'rose red rose', 'rose tea rose', 'rosemary', 'rubbery', 'rue', 'rummy', 'saffron', 'sage', 'sage clary sage', 'salty', 'sandalwood', 'sandy', 'sappy', 'sarsaparilla', 'sassafrass', 'sausage smoked sausage', 'savory', 'sawdust', 'scallion', 'seafood', 'seashore', 'seaweed', 'seedy', 'sharp', 'shellfish', 'shrimp', 'skunk', 'smoky', 'soapy', 'soft', 'solvent', 'soup', 'sour', 'spearmint', 'spicy', 'spinach', 'starfruit', 'storax', 'strawberry', 'styrene', 'sugar', 'sugar brown sugar', 'sugar burnt sugar', 'sulfurous', 'sweaty', 'sweet', 'sweet pea', 'taco', 'tagette', 'tallow', 'tangerine', 'tarragon', 'tart', 'tea', 'tea black tea', 'tea green tea', 'tequila', 'terpenic', 'thujonic', 'thyme', 'toasted', 'tobacco', 'toffee', 'tolu balsam', 'tomato', 'tomato leaf', 'tonka', 'tropical', 'truffle', 'tuberose', 'turkey', 'turnup', 'tutti frutti', 'valerian root', 'vanilla', 'vegetable', 'verbena', 'vetiver', 'vinegar', 'violet', 'violet leaf', 'walnut', 'warm', 'wasabi', 'watercress', 'watermelon', 'watermelon rind', 'watery', 'waxy', 'weedy', 'wet', 'whiskey', 'winey', 'wintergreen', 'woody', 'woody burnt wood', 'woody old wood', 'wormwood', 'yeasty', 'ylang', 'zesty']\n",
    "\n",
    "merger_dict = \\\n",
    "{'almond': ['almond','almond bitter almond','almond roasted almond','almond toasted almond'],\n",
    " 'amber': ['amber', 'ambergris'],\n",
    " 'apple': ['apple','apple cooked apple','apple dried apple','apple green apple','apple skin'],\n",
    " 'banana': ['banana','banana peel','banana ripe banana','banana unripe banana'],\n",
    " 'beefy': ['beefy roasted beefy', 'beef', 'beef juice', 'beefy'],\n",
    " 'berry': ['berry', 'berry ripe berry'],\n",
    " 'bitter': ['almond bitter almond', 'bitter', 'orange bitter orange'],\n",
    " 'black currant': ['currant black currant', 'currant bud black currant bud'],\n",
    " 'burnt': ['burnt', 'sugar burnt sugar', 'woody burnt wood'],\n",
    " 'cedar': ['cedar', 'cedarwood'],\n",
    " 'cheesy': ['cheese','cheesy limburger cheese','cheesy parmesan cheese','cheesy','cheesy roquefort cheese','cheesy feta cheese','cheesy bleu cheese'],\n",
    " 'cherry': ['cherry', 'cherry maraschino cherry'],\n",
    " 'chocolate': ['chocolate', 'chocolate dark chocolate'],\n",
    " 'citrus': ['citralva','citric','citronellal','citrus rind','citronella','citral','citrus','citrus peel'],\n",
    " 'coffee': ['coffee', 'coffee roasted coffee'],\n",
    " 'cucumber': ['cucumber', 'cucumber skin'],\n",
    " 'fresh': ['fresh', 'fresh outdoors', 'freshly'],\n",
    " 'grape': ['concord grape', 'grape', 'grape skin'],\n",
    " 'grapefruit': ['grapefruit', 'grapefruit peel', 'grapfruit'],\n",
    " 'green': ['apple green apple','bean green bean','green','clover','pea green pea','tea green tea'],\n",
    " 'hay': ['hay', 'hay new mown hay', 'new mown hay'],\n",
    " 'hazelnut': ['hazelnut', 'hazelnut roasted hazelnut'],\n",
    " 'honey': ['honey', 'honeydew', 'honeysuckle'],\n",
    " 'juicy': ['juicy', 'juicy fruit'],\n",
    " 'lemon': ['lemon peel', 'lime', 'lemon', 'lemongrass'],\n",
    " 'lily': ['lily of the valley', 'lily-of-the-valley', 'lily', 'lilial'],\n",
    " 'meaty': ['meaty roasted meaty', 'meat', 'meaty'],\n",
    " 'melon': ['melon', 'melon rind', 'melon unripe melon', 'watermelon rind'],\n",
    " 'mint': ['cornmint', 'peppermint', 'mint', 'minty', 'spearmint'],\n",
    " 'musk': ['musky', 'musk', 'ambrette', 'nitromusk'],\n",
    " 'odorless': ['almost odorless', 'odorless'],\n",
    " 'onion': ['onion', 'onion cooked onion', 'onion green onion'],\n",
    " 'orange': ['orange', 'orange bitter orange', 'orange peel', 'orange rind'],\n",
    " 'pear': ['pear', 'pear skin'],\n",
    " 'plum': ['plum', 'plum skin'],\n",
    " 'potato': ['potato','potato baked potato','potato chip','potato raw potato'],\n",
    " 'ripe': ['banana ripe banana','banana unripe banana','berry ripe berry','fruit overripe fruit','fruit ripe fruit','ripe'],\n",
    " 'roasted': ['barley roasted barley','chicken roasted chicken','grain toasted grain','almond roasted almond','peanut roasted peanut','hazelnut roasted hazelnut','coffee roasted coffee','beefy roasted beefy','meaty roasted meaty','roasted'],\n",
    " 'rose': ['rose red rose','rose','rose tea rose','rose dried rose','bois de rose','rosy','rosey'],\n",
    " 'tea': ['rose tea rose', 'tea', 'tea black tea', 'tea green tea'],\n",
    " 'vegetable': ['vegetable', 'vegetables'],\n",
    " 'woody': ['wood','woody','woody-lactone','woody old wood','woody burnt wood'],\n",
    " 'grassy': ['lemongrass', 'grassy', 'grass'],\n",
    " 'lactonic': ['woody-lactone', 'lactonic', 'lactone'],\n",
    " 'leafy': ['leafy', 'tomato leaf', 'leaf', 'violet leaf'],\n",
    " 'fruit skin': ['apple skin','grape skin','pear skin','plum skin','orange peel','banana peel','citrus peel','grapefruit peel','lemon peel'],\n",
    " 'fruity': ['fruit','fruit ripe fruit','juicy fruit','fruit overripe fruit','fruit tropical fruit','fruit dried fruit','fruity'],\n",
    " 'dry': ['dried','dry','fruit dried fruit','rose dried rose','apple dried apple'],\n",
    " 'spicy': ['allspice', 'spicy', 'nutmeg', 'spice', 'rosemary'],\n",
    " 'anisic': ['anise', 'anisic'],\n",
    " 'balsamic': ['balsam', 'balsamic', 'tolu balsam'],\n",
    " 'privet': ['privet', 'privetblossom'],\n",
    " 'camphoreous': ['camphor', 'camphoreous'],\n",
    " 'caramellic': ['caramel', 'caramellic'],\n",
    " 'carrot': ['carrot', 'carrot seed'],\n",
    " 'cooling': ['cool', 'cooling'],\n",
    " 'coumarinic': ['coumarin', 'coumarinic'],\n",
    " 'ethereal': ['ether', 'ethereal'],\n",
    " 'metallic': ['metal', 'metallic'],\n",
    " 'sulfurous': ['sulfurous', 'sulfury'],\n",
    " 'terpenic': ['terpene', 'terpenic', 'terpentine'],\n",
    " 'buttery': ['butter', 'buttery'],\n",
    " 'cinnamon': ['cinnamon', 'cinnamyl'],\n",
    " 'fatty': ['chicken fat', 'fatty'],\n",
    " 'fishy': ['fish', 'fishy', 'shellfish'],\n",
    " 'herbal': ['herb', 'herbaceous', 'herbal'],\n",
    " 'milky': ['milk', 'milky'],\n",
    " 'nutty': ['nut', 'nut flesh', 'nut skin', 'nutty'],\n",
    " 'oily': ['oil', 'oily'],\n",
    " 'radish': ['horseradish', 'radish'],\n",
    " 'rummy': ['rum', 'rummy'],\n",
    " 'smoky': ['sausage smoked sausage', 'smoky'],\n",
    " 'bready': ['bread baked', 'bread crust', 'bread rye bread', 'bready'],\n",
    " 'licorice': ['licorice', 'licorice black licorice'],\n",
    " 'sweaty': ['sweat', 'sweaty'],\n",
    " 'winey': ['wine', 'winey'],\n",
    " 'thujonic': ['absinthe','thujonic'],\n",
    " 'floral': ['floral', 'flower', 'flowers', 'flowery']}\n",
    "\n",
    "full_canonize = {note: canon for canon, notes in merger_dict.items() for note in notes}\n",
    "def canonize(notes):\n",
    "    return sorted(list({full_canonize[note] if note in full_canonize else note for note in notes}))\n",
    "len(canonize(all_notes))"
   ]
  },
  {
   "cell_type": "code",
   "execution_count": 2,
   "id": "2271f11d-a953-4c22-bf84-bd84824ec2b5",
   "metadata": {
    "tags": []
   },
   "outputs": [
    {
     "data": {
      "text/plain": [
       "(109, 496)"
      ]
     },
     "execution_count": 2,
     "metadata": {},
     "output_type": "execute_result"
    }
   ],
   "source": [
    "import json\n",
    "import collections\n",
    "\n",
    "with open(\"../dataset/full.json\") as f:\n",
    "    full_data = json.load(f)\n",
    "\n",
    "all_blend_notes = collections.Counter()\n",
    "all_single_notes = collections.Counter()\n",
    "\n",
    "for d in full_data:\n",
    "    all_blend_notes.update(d[\"blend_notes\"])\n",
    "    all_single_notes.update(d[\"mol1_notes\"])\n",
    "    all_single_notes.update(d[\"mol2_notes\"])\n",
    "    \n",
    "len(all_blend_notes), len(all_single_notes)"
   ]
  },
  {
   "cell_type": "code",
   "execution_count": 3,
   "id": "097db670-9cb0-4a69-ae29-4b8664a9711b",
   "metadata": {
    "tags": []
   },
   "outputs": [
    {
     "name": "stderr",
     "output_type": "stream",
     "text": [
      "/Users/laurasisson/miniconda3/envs/rdenv/lib/python3.11/site-packages/InstructorEmbedding/instructor.py:7: TqdmExperimentalWarning: Using `tqdm.autonotebook.tqdm` in notebook mode. Use `tqdm.tqdm` instead to force console mode (e.g. in jupyter console)\n",
      "  from tqdm.autonotebook import trange\n"
     ]
    },
    {
     "name": "stdout",
     "output_type": "stream",
     "text": [
      "load INSTRUCTOR_Transformer\n",
      "max_seq_length  512\n"
     ]
    }
   ],
   "source": [
    "from InstructorEmbedding import INSTRUCTOR\n",
    "model = INSTRUCTOR('hkunlp/instructor-large')\n",
    "instruction = \"Represent the Odor descriptor for canonicalization:\"\n",
    "embeddings = model.encode([[instruction,sentence]])"
   ]
  },
  {
   "cell_type": "code",
   "execution_count": 4,
   "id": "befd0b98-4c22-4e57-8983-eeb370084fd4",
   "metadata": {
    "tags": []
   },
   "outputs": [],
   "source": [
    "from sentence_transformers import SentenceTransformer\n",
    "import scipy\n",
    "\n",
    "model = SentenceTransformer('sentence-transformers/all-MiniLM-L6-v2')\n",
    "embeddings = model.encode([[instruction, n] for n in all_single_notes.keys()])\n",
    "sims = dict()\n",
    "for i, note in enumerate(all_single_notes.keys()):\n",
    "    sims[note] = collections.Counter({other:(1-scipy.spatial.distance.cosine(embeddings[i],embeddings[j])) for j, other in enumerate(all_single_notes.keys()) if i!=j})"
   ]
  },
  {
   "cell_type": "code",
   "execution_count": 5,
   "id": "aef175ca-1e7e-44fd-a815-274a2fa15cf9",
   "metadata": {
    "tags": []
   },
   "outputs": [],
   "source": [
    "single_cooccurs = {n:collections.Counter() for n,_ in all_single_notes.most_common()}\n",
    "for d in full_data:\n",
    "    for n in d[\"mol1_notes\"]:\n",
    "        single_cooccurs[n].update(d[\"mol1_notes\"])\n",
    "    for n in d[\"mol2_notes\"]:\n",
    "        single_cooccurs[n].update(d[\"mol2_notes\"])"
   ]
  },
  {
   "cell_type": "code",
   "execution_count": 6,
   "id": "2d73b1ab-e62b-4b12-92a4-dd8cc749360f",
   "metadata": {
    "tags": []
   },
   "outputs": [
    {
     "data": {
      "text/plain": [
       "496"
      ]
     },
     "execution_count": 6,
     "metadata": {},
     "output_type": "execute_result"
    }
   ],
   "source": [
    "voters = {n:{n} for n in all_single_notes.keys()}\n",
    "len(voters)"
   ]
  },
  {
   "cell_type": "code",
   "execution_count": 7,
   "id": "135b1d15-1908-40c1-9e58-288ca412c7b2",
   "metadata": {},
   "outputs": [
    {
     "data": {
      "text/plain": [
       "'cherry maraschino cherry'"
      ]
     },
     "execution_count": 7,
     "metadata": {},
     "output_type": "execute_result"
    }
   ],
   "source": [
    "def get_votes(n):\n",
    "    return sum([all_single_notes[v] for v in voters[n]])\n",
    "\n",
    "def get_runoff(n):\n",
    "    for other, _ in sims[n].most_common():\n",
    "        if other in voters:\n",
    "            return other\n",
    "\n",
    "get_votes(\"cherry\")\n",
    "get_runoff(\"cherry\")"
   ]
  },
  {
   "cell_type": "code",
   "execution_count": 8,
   "id": "ed897ef7-b8b1-418c-a9fc-a08a2c0017fa",
   "metadata": {
    "tags": []
   },
   "outputs": [
    {
     "data": {
      "text/plain": [
       "('wormwood', 'sandalwood')"
      ]
     },
     "execution_count": 8,
     "metadata": {},
     "output_type": "execute_result"
    }
   ],
   "source": [
    "votes = collections.Counter({n:-1*get_votes(n) for n in voters})\n",
    "loser = votes.most_common(1)[0][0]\n",
    "runoff = get_runoff(loser)\n",
    "loser, runoff"
   ]
  },
  {
   "cell_type": "code",
   "execution_count": 9,
   "id": "30f8fa68-d5ed-42f0-807a-6195300bcb16",
   "metadata": {
    "tags": []
   },
   "outputs": [
    {
     "name": "stdout",
     "output_type": "stream",
     "text": [
      "wormwood -> sandalwood\n",
      "orange bitter orange -> orange\n",
      "astringent -> chemical\n",
      "shrimp -> seafood\n",
      "cider -> ripe\n",
      "marjoram -> marzipan\n",
      "cheesy feta cheese -> cheesy parmesan cheese\n",
      "agarwood -> sandalwood\n",
      "gravy -> beefy\n",
      "gasoline -> petroleum\n",
      "bouillon -> immortelle\n",
      "goaty -> beefy\n",
      "shellfish -> seafood\n",
      "apple dried apple -> apple cooked apple\n",
      "grain -> grain toasted grain\n",
      "oriental -> natural\n",
      "mace -> musty\n",
      "cornmint -> corn\n",
      "styrene -> chemical\n",
      "bloody -> meaty\n",
      "almond toasted almond -> almond roasted almond\n",
      "palmarosa -> immortelle\n",
      "pistachio -> berry\n",
      "frankincense -> fermented\n",
      "cheesy bleu cheese -> cheesy parmesan cheese\n",
      "origanum -> durian\n",
      "nut flesh -> nut skin\n",
      "mutton -> musty\n",
      "jackfruit -> fruity\n",
      "potato chip -> potato\n",
      "cheesy roquefort cheese -> cheesy limburger cheese\n",
      "dill -> musty\n",
      "sarsaparilla -> cassia\n",
      "turkey -> meaty\n",
      "pomegranate -> privetblossom\n",
      "bread crust -> bread baked\n",
      "valerian root -> rooty\n",
      "tolu balsam -> balsamic\n",
      "elemi -> rue\n",
      "chervil -> cherry\n",
      "osmanthus -> hawthorn\n",
      "bay -> paper\n",
      "ammoniacal -> chemical\n",
      "leek -> musty\n",
      "broccoli -> cabbage\n",
      "toffee -> musty\n",
      "turnup -> myrrh\n",
      "pepper black pepper -> pepper bell pepper\n",
      "vinegar -> chemical\n",
      "chicken roasted chicken -> chicken\n",
      "lard -> fried\n",
      "peanut butter -> peanut\n",
      "lamb -> meaty\n",
      "potato raw potato -> potato baked potato\n",
      "capers -> musty\n",
      "genet -> myrrh\n",
      "cistus -> civet\n",
      "taco -> cooked\n",
      "forest -> foliage\n",
      "barley roasted barley -> cereal\n",
      "bread rye bread -> bread baked\n",
      "carvone -> cheesy\n",
      "grain toasted grain -> cereal\n",
      "chicory -> musty\n",
      "praline -> privet\n",
      "pumpkin -> fruity\n",
      "truffle -> musty\n",
      "cheesy parmesan cheese -> cheesy limburger cheese\n",
      "carrot seed -> carrot\n",
      "davana -> musty\n",
      "charred -> burnt\n",
      "durian -> musty\n",
      "immortelle -> fried\n",
      "lychee -> musty\n",
      "boronia -> cassia\n",
      "graham cracker -> paper\n",
      "cauliflower -> orangeflower\n",
      "tea black tea -> tea green tea\n",
      "sappy -> musty\n",
      "freesia -> natural\n",
      "artichoke -> natural\n",
      "tequila -> brandy\n",
      "pork -> bacon\n",
      "tarragon -> tart\n",
      "zesty -> musty\n",
      "rindy -> musty\n",
      "algae -> seaweed\n",
      "molasses -> musty\n",
      "grilled -> cooked\n",
      "benzoin -> aromatic\n",
      "date -> fresh\n",
      "privetblossom -> privet\n",
      "lettuce -> vegetable\n",
      "beef juice -> juicy fruit\n",
      "asparagus -> carrot\n",
      "lovage -> musty\n",
      "skunk -> buchu\n",
      "acetone -> acetic\n",
      "spinach -> vegetable\n",
      "liver -> animal\n",
      "cucumber skin -> cucumber\n",
      "gooseberry -> loganberry\n",
      "verbena -> natural\n",
      "autumn -> wintergreen\n",
      "banana ripe banana -> banana unripe banana\n",
      "fenugreek -> fennel\n",
      "absinthe -> medicinal\n",
      "sausage smoked sausage -> meaty\n",
      "potato baked potato -> potato\n",
      "salty -> sour\n",
      "moldy -> musty\n",
      "gourmand -> musty\n",
      "clam -> clove\n",
      "almond roasted almond -> almond bitter almond\n",
      "castoreum -> galbanum\n",
      "cananga -> cantaloupe\n",
      "beefy roasted beefy -> meaty roasted meaty\n",
      "beeswax -> honeydew\n",
      "petroleum -> oily\n",
      "sassafrass -> reseda\n",
      "marzipan -> civet\n",
      "angelica -> herbal\n",
      "mahogany -> guaiacwood\n",
      "woody burnt wood -> woody old wood\n",
      "allspice -> alliaceous\n",
      "egg nog -> eggy\n",
      "juniper -> bean green bean\n",
      "peppermint -> peppery\n",
      "tomato leaf -> tomato\n",
      "painty -> musty\n",
      "thyme -> hay\n",
      "caraway -> musty\n",
      "cheesy limburger cheese -> dairy\n",
      "sandy -> sandalwood\n",
      "baked -> bread baked\n",
      "butterscotch -> buttery\n",
      "sweet pea -> pea green pea\n",
      "soup -> beefy\n",
      "seafood -> fishy\n",
      "peanut roasted peanut -> peanut\n",
      "chicken coup -> chicken\n",
      "lemongrass -> lemon\n",
      "ginger -> orange\n",
      "arrack -> musty\n",
      "fleshy -> meaty\n",
      "scallion -> cooked\n",
      "plum skin -> plum\n",
      "citrus peel -> lemon peel\n",
      "starfruit -> sweet\n",
      "hazelnut roasted hazelnut -> hazelnut\n",
      "banana peel -> banana\n",
      "chicken fat -> chicken\n",
      "chocolate dark chocolate -> chocolate\n",
      "soft -> sharp\n",
      "apple cooked apple -> apple green apple\n",
      "acorn -> civet\n",
      "cedarwood -> cedar\n",
      "gassy -> cheesy\n",
      "cookie -> vanilla\n",
      "quince -> musty\n",
      "corn chip -> corn\n",
      "cardamom -> bergamot\n",
      "cypress -> ambergris\n",
      "ham -> myrrh\n",
      "coriander -> tangerine\n",
      "elderflower -> orangeflower\n",
      "filbert -> musty\n",
      "cologne -> muguet\n",
      "fecal -> pungent\n",
      "cashew -> vegetable\n",
      "paper -> musty\n",
      "tagette -> musty\n",
      "berry ripe berry -> berry\n",
      "sugar burnt sugar -> sugar\n",
      "popcorn -> corn\n",
      "tea green tea -> tea\n",
      "licorice black licorice -> licorice\n",
      "loganberry -> fruity\n",
      "blackberry -> berry\n",
      "orange rind -> orange\n",
      "tallow -> myrrh\n",
      "seashore -> marine\n",
      "parsley -> vegetable\n",
      "fruit ripe fruit -> fruit overripe fruit\n",
      "humus -> costus\n",
      "acrylate -> resinous\n",
      "watermelon rind -> watermelon\n",
      "cereal -> corn\n",
      "rue -> musty\n",
      "buttermilk -> buttery\n",
      "sage -> sweet\n",
      "mustard -> cheesy\n",
      "eucalyptus -> ambergris\n",
      "incense -> natural\n",
      "nutmeg -> nutty\n",
      "cassia -> reseda\n",
      "sugar brown sugar -> sugar\n",
      "saffron -> reseda\n",
      "wasabi -> myrrh\n",
      "grapefruit peel -> grapefruit\n",
      "guaiacol -> guaiacwood\n",
      "seaweed -> marine\n",
      "fried -> musty\n",
      "fig -> myrrh\n",
      "opoponax -> ambergris\n",
      "cantaloupe -> musty\n",
      "oakmoss -> ambergris\n",
      "carrot -> vegetable\n",
      "linden flower -> floral\n",
      "hay new mown hay -> hay\n",
      "cilantro -> citronella\n",
      "pulpy -> fruity\n",
      "rosemary -> herbal\n",
      "watercress -> watery\n",
      "bean green bean -> beany\n",
      "raw -> musty\n",
      "rose dried rose -> rose red rose\n",
      "beefy -> meaty\n",
      "sage clary sage -> herbal\n",
      "brothy -> chicken\n",
      "whiskey -> brandy\n",
      "cranberry -> blueberry\n",
      "prune -> musty\n",
      "mango -> fruity\n",
      "ambrette -> musty\n",
      "custard -> civet\n",
      "guava -> natural\n",
      "root beer -> rooty\n",
      "hairy -> hay\n",
      "thujonic -> musty\n",
      "dirty -> clean\n",
      "acetic -> chemical\n",
      "spearmint -> musty\n",
      "honeysuckle -> honey\n",
      "onion cooked onion -> onion green onion\n",
      "cherry maraschino cherry -> cherry\n",
      "sawdust -> dusty\n",
      "bread baked -> bready\n",
      "peanut -> banana\n",
      "coffee roasted coffee -> coffee\n",
      "bacon -> meaty\n",
      "pea green pea -> vegetable\n",
      "labdanum -> ambergris\n",
      "fresh outdoors -> fresh\n",
      "storax -> musty\n",
      "malty -> musty\n",
      "tangerine -> fruity\n",
      "peely -> fruity\n",
      "acacia -> guaiacwood\n",
      "grape skin -> grape\n",
      "passion fruit -> juicy fruit\n",
      "honeydew -> honey\n",
      "tuberose -> myrrh\n",
      "patchouli -> musty\n",
      "ylang -> musty\n",
      "melon rind -> melon\n",
      "rancid -> musty\n",
      "citrus rind -> citrus\n",
      "rubbery -> musty\n",
      "basil -> natural\n",
      "dewy -> musty\n",
      "catty -> myrrh\n",
      "walnut -> hazelnut\n",
      "rose tea rose -> rose red rose\n",
      "pear skin -> pear\n",
      "currant black currant -> currant bud black currant bud\n",
      "candy -> cotton candy\n",
      "eggy -> bready\n",
      "pepper bell pepper -> peppery\n",
      "buchu -> musty\n",
      "mossy -> musty\n",
      "raisin -> fruity\n",
      "lemon peel -> lemon\n",
      "kiwi -> fruity\n",
      "bitter -> sweet\n",
      "toasted -> bready\n",
      "fishy -> meaty\n",
      "watermelon -> melon\n",
      "chrysanthemum -> floral\n",
      "wintergreen -> myrrh\n",
      "solvent -> chemical\n",
      "fruit dried fruit -> juicy fruit\n",
      "orange peel -> orange\n",
      "fennel -> musty\n",
      "mandarin -> lemon\n",
      "cloth laundered cloth -> dry\n",
      "maple -> ambergris\n",
      "petitgrain -> muguet\n",
      "horseradish -> animal\n",
      "chamomile -> musty\n",
      "peony -> privet\n",
      "fruit overripe fruit -> juicy fruit\n",
      "nasturtium -> vetiver\n",
      "radish -> reseda\n",
      "fir needle -> woody\n",
      "naphthyl -> chemical\n",
      "almond bitter almond -> almond\n",
      "meaty roasted meaty -> meaty\n",
      "greasy -> oily\n",
      "cabbage -> vegetable\n",
      "tart -> musty\n",
      "mentholic -> myrrh\n",
      "aromatic -> chemical\n",
      "mimosa -> gardenia\n",
      "clover -> potato\n",
      "woody old wood -> woody\n",
      "plastic -> chemical\n",
      "resinous -> chemical\n",
      "smoky -> cooked\n",
      "anise -> anisic\n",
      "bubble gum -> fruity\n",
      "onion green onion -> onion\n",
      "costus -> musty\n",
      "petal -> musty\n",
      "wet -> dry\n",
      "lily of the valley -> lily\n",
      "fungal -> yeasty\n",
      "lilac -> orris\n",
      "heliotrope -> vetiver\n",
      "alcoholic -> brandy\n",
      "citronella -> civet\n",
      "apple skin -> apple\n",
      "tomato -> vegetable\n",
      "tonka -> musty\n",
      "papaya -> coconut\n",
      "violet leaf -> violet\n",
      "carnation -> fruity\n",
      "nut skin -> nutty\n",
      "leathery -> meaty\n",
      "corn -> vegetable\n",
      "guaiacwood -> woody\n",
      "beany -> bready\n",
      "lime -> lemon\n",
      "foliage -> leafy\n",
      "banana unripe banana -> banana\n",
      "sour -> myrrh\n",
      "sugar -> sweet\n",
      "ketonic -> lactonic\n",
      "savory -> meaty\n",
      "medicinal -> herbal\n",
      "cotton candy -> chocolate\n",
      "fusel -> musty\n",
      "hawthorn -> ambergris\n",
      "currant bud black currant bud -> tea\n",
      "clove -> civet\n",
      "cyclamen -> ambergris\n",
      "sweaty -> dry\n",
      "apple green apple -> apple\n",
      "acidic -> chemical\n",
      "licorice -> cheesy\n",
      "galbanum -> ambergris\n",
      "brown -> musty\n",
      "chicken -> animal\n",
      "privet -> civet\n",
      "fruit tropical fruit -> juicy fruit\n",
      "hazelnut -> nutty\n",
      "sandalwood -> cedar\n",
      "peppery -> fruity\n",
      "narcissus -> natural\n",
      "orchid -> floral\n",
      "rooty -> musty\n",
      "magnolia -> ambergris\n",
      "cinnamon -> sweet\n",
      "reseda -> musty\n",
      "marine -> vetiver\n",
      "orangeflower -> orange\n",
      "celery -> musty\n",
      "cumin -> myrrh\n",
      "cinnamyl -> civet\n",
      "burnt -> cooked\n",
      "coumarinic -> phenolic\n",
      "potato -> vegetable\n",
      "blueberry -> berry\n",
      "seedy -> musty\n",
      "ozone -> violet\n",
      "alliaceous -> myrrh\n",
      "dusty -> hay\n",
      "roasted -> cooked\n",
      "neroli -> musty\n",
      "milky -> ambergris\n",
      "bois de rose -> rose\n",
      "cucumber -> vegetable\n",
      "lavender -> sweet\n",
      "garlic -> bergamot\n",
      "anisic -> musty\n",
      "brandy -> cognac\n",
      "yeasty -> bready\n",
      "rose red rose -> rose\n",
      "rhubarb -> myrrh\n",
      "watery -> dry\n",
      "warm -> cooked\n",
      "gardenia -> floral\n",
      "almond -> fruity\n",
      "grassy -> hay\n",
      "grapefruit -> grape\n",
      "weedy -> fruity\n",
      "cocoa -> apple\n",
      "strawberry -> fruity\n",
      "terpenic -> cheesy\n",
      "fermented -> cooked\n",
      "pine -> woody\n",
      "sharp -> musty\n",
      "dairy -> cooked\n",
      "tea -> fruity\n",
      "mushroom -> vegetable\n",
      "tobacco -> fruity\n",
      "jammy -> musty\n",
      "coffee -> muguet\n",
      "juicy -> sweet\n",
      "raspberry -> berry\n",
      "ripe -> fruity\n",
      "tutti frutti -> civet\n",
      "chocolate -> sweet\n",
      "cortex -> orris\n",
      "onion -> cooked\n",
      "musk -> civet\n",
      "hyacinth -> myrrh\n",
      "cooling -> cooked\n",
      "camphoreous -> cooked\n",
      "lactonic -> natural\n",
      "plum -> peach\n",
      "buttery -> meaty\n",
      "vanilla -> musty\n",
      "amber -> ambergris\n",
      "geranium -> orris\n",
      "lily -> sweet\n",
      "soapy -> musty\n",
      "juicy fruit -> fruity\n",
      "estery -> cheesy\n",
      "rummy -> meaty\n",
      "apricot -> fruity\n",
      "cedar -> woody\n",
      "vetiver -> musty\n",
      "caramellic -> fruity\n",
      "minty -> musty\n",
      "bergamot -> ambergris\n",
      "pungent -> bready\n",
      "lemon -> citrus\n",
      "coconut -> banana\n",
      "cherry -> sweet\n",
      "animal -> meaty\n",
      "metallic -> chemical\n",
      "jasmin -> orris\n",
      "sulfurous -> chemical\n",
      "cognac -> muguet\n",
      "ethereal -> musty\n",
      "violet -> green\n",
      "grape -> citrus\n",
      "winey -> musty\n",
      "leafy -> fruity\n",
      "melon -> fruity\n",
      "aldehydic -> musty\n",
      "orange -> fruity\n",
      "phenolic -> cheesy\n",
      "hay -> musty\n",
      "clean -> fresh\n",
      "pear -> fruity\n",
      "creamy -> cooked\n",
      "honey -> sweet\n",
      "peach -> fruity\n",
      "nutty -> meaty\n",
      "earthy -> musty\n",
      "natural -> musty\n",
      "dry -> fresh\n",
      "bready -> musty\n",
      "powdery -> cheesy\n",
      "oily -> meaty\n",
      "balsamic -> musty\n",
      "civet -> musty\n",
      "banana -> fruity\n",
      "muguet -> musty\n",
      "pineapple -> fruity\n",
      "spicy -> cooked\n",
      "myrrh -> musty\n",
      "berry -> fruity\n",
      "orris -> musty\n",
      "fatty -> cooked\n",
      "tropical -> fruity\n",
      "apple -> fruity\n",
      "chemical -> cheesy\n",
      "vegetable -> fruity\n"
     ]
    }
   ],
   "source": [
    "while len(voters) > 15:\n",
    "    votes = collections.Counter({n:-1*get_votes(n) for n in voters})\n",
    "    loser = votes.most_common(1)[0][0]\n",
    "    runoff = get_runoff(loser)\n",
    "    voters[runoff].update(voters[loser])\n",
    "    del voters[loser]\n",
    "    print(loser,\"->\",runoff)"
   ]
  },
  {
   "cell_type": "code",
   "execution_count": 10,
   "id": "720964ef-fa67-4dee-b115-50d35384d39c",
   "metadata": {
    "tags": []
   },
   "outputs": [
    {
     "data": {
      "text/plain": [
       "{'sweet': 191796,\n",
       " 'fruity': 526921,\n",
       " 'waxy': 58073,\n",
       " 'fresh': 89055,\n",
       " 'green': 157310,\n",
       " 'woody': 78919,\n",
       " 'floral': 120941,\n",
       " 'citrus': 58669,\n",
       " 'rose': 51721,\n",
       " 'musty': 404354,\n",
       " 'herbal': 53991,\n",
       " 'cheesy': 107230,\n",
       " 'cooked': 138071,\n",
       " 'ambergris': 43182,\n",
       " 'meaty': 94862}"
      ]
     },
     "execution_count": 10,
     "metadata": {},
     "output_type": "execute_result"
    }
   ],
   "source": [
    "{n:get_votes(n) for n in voters.keys()}"
   ]
  },
  {
   "cell_type": "code",
   "execution_count": 11,
   "id": "338352e5-729c-4a09-be1d-e2a036c7c301",
   "metadata": {
    "tags": []
   },
   "outputs": [
    {
     "data": {
      "text/plain": [
       "dict_keys(['musty'])"
      ]
     },
     "metadata": {},
     "output_type": "display_data"
    },
    {
     "data": {
      "text/plain": [
       "dict_keys(['sweet', 'fruity', 'musty'])"
      ]
     },
     "metadata": {},
     "output_type": "display_data"
    },
    {
     "data": {
      "text/plain": [
       "dict_keys(['sweet', 'fruity', 'green', 'musty', 'cooked'])"
      ]
     },
     "metadata": {},
     "output_type": "display_data"
    },
    {
     "data": {
      "text/plain": [
       "dict_keys(['sweet', 'fruity', 'fresh', 'green', 'woody', 'floral', 'musty', 'cheesy', 'cooked', 'meaty'])"
      ]
     },
     "metadata": {},
     "output_type": "display_data"
    }
   ],
   "source": [
    "def get_canon_notes_set(size):\n",
    "    voters = {n:{n} for n in all_single_notes.keys()}\n",
    "    \n",
    "    def get_votes(n):\n",
    "        return sum([all_single_notes[v] for v in voters[n]])\n",
    "\n",
    "    def get_runoff(n):\n",
    "        for other, _ in sims[n].most_common():\n",
    "            if other in voters:\n",
    "                return other\n",
    "\n",
    "    while len(voters) > size:\n",
    "        votes = collections.Counter({n:-1*get_votes(n) for n in voters})\n",
    "        loser = votes.most_common(1)[0][0]\n",
    "        runoff = get_runoff(loser)\n",
    "        voters[runoff].update(voters[loser])\n",
    "        del voters[loser]\n",
    "        \n",
    "    return voters\n",
    "\n",
    "display(get_canon_notes_set(1).keys())\n",
    "display(get_canon_notes_set(3).keys())\n",
    "display(get_canon_notes_set(5).keys())\n",
    "display(get_canon_notes_set(10).keys())"
   ]
  },
  {
   "cell_type": "code",
   "execution_count": 12,
   "id": "8421273c-4f02-4d2e-a26e-40d232cdf06d",
   "metadata": {
    "tags": []
   },
   "outputs": [
    {
     "data": {
      "text/plain": [
       "[(('meaty', 'beefy'), 0.9902945160865784),\n",
       " (('melon rind', 'melon'), 0.9838603138923645),\n",
       " (('citrus rind', 'citrus'), 0.9822975993156433),\n",
       " (('pepper black pepper', 'pepper bell pepper'), 0.9817332625389099),\n",
       " (('watermelon rind', 'watermelon'), 0.9816087484359741)]"
      ]
     },
     "execution_count": 12,
     "metadata": {},
     "output_type": "execute_result"
    }
   ],
   "source": [
    "def order(n1,n2):\n",
    "    if n1>n2:\n",
    "        return n1,n2\n",
    "    else:\n",
    "        return n2,n1\n",
    "\n",
    "closest_pairs = collections.Counter({order(n1,n2):1-scipy.spatial.distance.cosine(embeddings[i],embeddings[j]) for i, n1 in enumerate(all_single_notes.keys()) for j, n2 in enumerate(all_single_notes.keys()) if i!=j})\n",
    "closest_pairs.most_common(5)"
   ]
  },
  {
   "cell_type": "code",
   "execution_count": 13,
   "id": "b4385619-a02c-4136-b88c-30a354b56fba",
   "metadata": {
    "tags": []
   },
   "outputs": [
    {
     "data": {
      "text/plain": [
       "dict_keys(['sweet'])"
      ]
     },
     "metadata": {},
     "output_type": "display_data"
    },
    {
     "data": {
      "text/plain": [
       "dict_keys(['sweet', 'currant bud black currant bud', 'cloth laundered cloth'])"
      ]
     },
     "metadata": {},
     "output_type": "display_data"
    },
    {
     "data": {
      "text/plain": [
       "dict_keys(['sweet', 'currant bud black currant bud', 'parsley', 'cloth laundered cloth', 'date'])"
      ]
     },
     "metadata": {},
     "output_type": "display_data"
    },
    {
     "data": {
      "text/plain": [
       "dict_keys(['sweet', 'currant bud black currant bud', 'narcissus', 'parsley', 'cloth laundered cloth', 'absinthe', 'brothy', 'date', 'asparagus', 'osmanthus'])"
      ]
     },
     "metadata": {},
     "output_type": "display_data"
    }
   ],
   "source": [
    "def get_canon_notes_set(size):\n",
    "    closest_pairs = collections.Counter({order(n1,n2):1-scipy.spatial.distance.cosine(embeddings[i],embeddings[j]) for i, n1 in enumerate(all_single_notes.keys()) for j, n2 in enumerate(all_single_notes.keys()) if i!=j})\n",
    "    canon = {n:n for n in all_single_notes.keys()}\n",
    "    voters = {n:{n} for n in all_single_notes.keys()}\n",
    "    \n",
    "    def get_votes(n):\n",
    "        return sum([all_single_notes[v] for v in voters[n]])\n",
    "    \n",
    "    def canonize(n):\n",
    "        while canon[n] != n:\n",
    "            n = canon[n]\n",
    "        return n\n",
    "\n",
    "    while len(voters) > size:\n",
    "        for (n1,n2), _ in closest_pairs.most_common():\n",
    "            cn1 = canonize(n1)\n",
    "            cn2 = canonize(n2)\n",
    "            \n",
    "            del closest_pairs[(n1,n2)]\n",
    "            if cn1 != cn2:\n",
    "                break\n",
    "                \n",
    "        if get_votes(cn1) >= get_votes(cn2):\n",
    "            runoff = cn1\n",
    "            loser = cn2\n",
    "        else:\n",
    "            runoff = cn2\n",
    "            loser = cn1\n",
    "\n",
    "        canon[loser] = runoff\n",
    "        voters[runoff].update(voters[loser])\n",
    "        del voters[loser]\n",
    "        \n",
    "    return voters\n",
    "\n",
    "display(get_canon_notes_set(1).keys())\n",
    "display(get_canon_notes_set(3).keys())\n",
    "display(get_canon_notes_set(5).keys())\n",
    "display(get_canon_notes_set(10).keys())"
   ]
  },
  {
   "cell_type": "code",
   "execution_count": 14,
   "id": "9f23b98c-165d-4479-bd7e-d92b88e20fbe",
   "metadata": {
    "tags": []
   },
   "outputs": [
    {
     "name": "stdout",
     "output_type": "stream",
     "text": [
      "sweet {'fungal', 'plum skin', 'lime', 'galbanum', 'dill', 'hawthorn', 'orange', 'quince', 'walnut', 'molasses', 'tuberose', 'watery', 'leek', 'bloody', 'apple skin', 'bois de rose', 'peppery', 'chervil', 'acidic', 'violet', 'hay new mown hay', 'nutty', 'meaty', 'tagette', 'fatty', 'winey', 'wintergreen', 'carrot', 'lettuce', 'wet', 'sandalwood', 'sugar burnt sugar', 'genet', 'agarwood', 'juicy', 'fleshy', 'ambrette', 'woody', 'gardenia', 'eucalyptus', 'carvone', 'earthy', 'myrrh', 'lemon peel', 'shrimp', 'sour', 'jammy', 'taco', 'rhubarb', 'almond bitter almond', 'tonka', 'mushroom', 'mentholic', 'aromatic', 'fermented', 'honeydew', 'solvent', 'rummy', 'acorn', 'hyacinth', 'boronia', 'alcoholic', 'fecal', 'mossy', 'tangerine', 'hazelnut roasted hazelnut', 'chemical', 'bitter', 'chicken fat', 'peanut butter', 'clove', 'charred', 'warm', 'butterscotch', 'reseda', 'gasoline', 'blackberry', 'musty', 'coffee roasted coffee', 'rooty', 'lily of the valley', 'tequila', 'patchouli', 'lilac', 'forest', 'davana', 'anisic', 'orange rind', 'lavender', 'paper', 'rose red rose', 'nutmeg', 'vetiver', 'toasted', 'oriental', 'honey', 'hairy', 'broccoli', 'lemon', 'sage', 'lemongrass', 'meaty roasted meaty', 'fresh', 'berry', 'sharp', 'ham', 'caramellic', 'tolu balsam', 'skunk', 'dairy', 'allspice', 'basil', 'raspberry', 'guaiacol', 'citronella', 'privet', 'bread baked', 'beefy roasted beefy', 'cistus', 'dirty', 'musk', 'foliage', 'pine', 'gassy', 'hay', 'sugar brown sugar', 'jackfruit', 'beefy', 'ylang', 'metallic', 'marjoram', 'watercress', 'cananga', 'tart', 'peppermint', 'watermelon', 'minty', 'pineapple', 'astringent', 'smoky', 'petroleum', 'apple dried apple', 'linden flower', 'toffee', 'vanilla', 'creamy', 'rue', 'anise', 'bread crust', 'muguet', 'lard', 'grain', 'papaya', 'potato raw potato', 'pepper bell pepper', 'hazelnut', 'apple green apple', 'sarsaparilla', 'lamb', 'bergamot', 'peanut roasted peanut', 'maple', 'burnt', 'radish', 'naphthyl', 'spicy', 'gourmand', 'wormwood', 'storax', 'tea', 'resinous', 'sulfurous', 'buchu', 'candy', 'chocolate', 'sandy', 'almond toasted almond', 'cocoa', 'tutti frutti', 'magnolia', 'amber', 'fig', 'guava', 'terpenic', 'sawdust', 'dry', 'woody burnt wood', 'clam', 'guaiacwood', 'natural', 'banana peel', 'tomato', 'pear', 'leathery', 'coconut', 'balsamic', 'opoponax', 'sugar', 'cranberry', 'pungent', 'tallow', 'marine', 'ambergris', 'graham cracker', 'ketonic', 'cantaloupe', 'marzipan', 'clean', 'onion', 'strawberry', 'castoreum', 'shellfish', 'orange bitter orange', 'ozone', 'petal', 'bready', 'cilantro', 'cherry', 'dusty', 'rose', 'powdery', 'rancid', 'lily', 'root beer', 'raw', 'acetone', 'truffle', 'coffee', 'cherry maraschino cherry', 'whiskey', 'filbert', 'cucumber', 'prune', 'cedarwood', 'ethereal', 'cooling', 'angelica', 'berry ripe berry', 'apple cooked apple', 'origanum', 'lovage', 'chicken coup', 'fresh outdoors', 'cassia', 'chicken roasted chicken', 'pear skin', 'chamomile', 'corn chip', 'woody old wood', 'citrus', 'cinnamyl', 'alliaceous', 'rose dried rose', 'seafood', 'carnation', 'tea black tea', 'orchid', 'ammoniacal', 'almond roasted almond', 'rose tea rose', 'soup', 'peony', 'moldy', 'artichoke', 'cypress', 'medicinal', 'durian', 'vegetable', 'spinach', 'apricot', 'lactonic', 'thujonic', 'cauliflower', 'rubbery', 'banana', 'painty', 'fishy', 'arrack', 'pork', 'sweaty', 'praline', 'baked', 'humus', 'passion fruit', 'costus', 'citrus peel', 'cornmint', 'brandy', 'tarragon', 'civet', 'orangeflower', 'weedy', 'greasy', 'privetblossom', 'palmarosa', 'ripe', 'onion green onion', 'juicy fruit', 'starfruit', 'soapy', 'peely', 'elemi', 'mace', 'grape skin', 'labdanum', 'grapefruit peel', 'zesty', 'green', 'bread rye bread', 'fennel', 'turnup', 'grassy', 'acetic', 'bay', 'fruit tropical fruit', 'chicory', 'chicken', 'carrot seed', 'incense', 'orange peel', 'melon rind', 'nut skin', 'orris', 'saffron', 'tomato leaf', 'potato baked potato', 'bean green bean', 'plum', 'spearmint', 'roasted', 'potato chip', 'custard', 'dewy', 'pulpy', 'fruit dried fruit', 'almond', 'capers', 'pepper black pepper', 'cotton candy', 'sweet pea', 'violet leaf', 'sassafrass', 'corn', 'oily', 'neroli', 'pea green pea', 'potato', 'buttery', 'grape', 'phenolic', 'wasabi', 'cheesy', 'apple', 'gooseberry', 'elderflower', 'savory', 'catty', 'cabbage', 'cologne', 'melon', 'seedy', 'banana ripe banana', 'cognac', 'honeysuckle', 'beany', 'cedar', 'mustard', 'citrus rind', 'caraway', 'yeasty', 'immortelle', 'mutton', 'floral', 'chocolate dark chocolate', 'grapefruit', 'grilled', 'pumpkin', 'malty', 'rindy', 'eggy', 'sappy', 'egg nog', 'banana unripe banana', 'soft', 'goaty', 'raisin', 'buttermilk', 'camphoreous', 'bouillon', 'beeswax', 'bacon', 'seashore', 'herbal', 'estery', 'lychee', 'fenugreek', 'aldehydic', 'freesia', 'cortex', 'petitgrain', 'oakmoss', 'cooked', 'peach', 'tea green tea', 'peanut', 'loganberry', 'waxy', 'cucumber skin', 'autumn', 'benzoin', 'onion cooked onion', 'cumin', 'clover', 'cereal', 'sweet', 'fusel', 'blueberry', 'fruity', 'verbena', 'jasmin', 'plastic', 'animal', 'mango', 'fried', 'nut flesh', 'horseradish', 'fruit overripe fruit', 'cider', 'leafy', 'gravy', 'styrene', 'coriander', 'kiwi', 'tobacco', 'brown', 'mimosa', 'cinnamon', 'grain toasted grain', 'fruit ripe fruit', 'watermelon rind'}\n",
      "tropical {'tropical'}\n",
      "celery {'celery'}\n",
      "cyclamen {'cyclamen'}\n",
      "coumarinic {'coumarinic'}\n",
      "acrylate {'acrylate'}\n",
      "heliotrope {'heliotrope'}\n",
      "currant bud black currant bud {'currant black currant', 'currant bud black currant bud'}\n",
      "garlic {'garlic'}\n",
      "geranium {'geranium'}\n",
      "narcissus {'narcissus'}\n",
      "sausage smoked sausage {'sausage smoked sausage'}\n",
      "acacia {'acacia'}\n",
      "mandarin {'mandarin'}\n",
      "cardamom {'cardamom'}\n",
      "parsley {'parsley'}\n",
      "licorice {'licorice', 'licorice black licorice'}\n",
      "bubble gum {'bubble gum'}\n",
      "milky {'milky'}\n",
      "ginger {'ginger'}\n",
      "chrysanthemum {'chrysanthemum'}\n",
      "mahogany {'mahogany'}\n",
      "cashew {'cashew'}\n",
      "cloth laundered cloth {'cloth laundered cloth'}\n",
      "cookie {'cookie'}\n",
      "seaweed {'seaweed', 'algae'}\n",
      "rosemary {'rosemary'}\n",
      "nasturtium {'nasturtium'}\n",
      "thyme {'thyme'}\n",
      "sage clary sage {'sage clary sage'}\n",
      "juniper {'juniper'}\n",
      "absinthe {'absinthe'}\n",
      "fir needle {'fir needle'}\n",
      "cheesy limburger cheese {'cheesy limburger cheese', 'cheesy bleu cheese', 'cheesy parmesan cheese', 'cheesy roquefort cheese', 'cheesy feta cheese'}\n",
      "brothy {'brothy'}\n",
      "liver {'liver'}\n",
      "scallion {'scallion'}\n",
      "date {'date'}\n",
      "salty {'salty'}\n",
      "vinegar {'vinegar'}\n",
      "pomegranate {'pomegranate'}\n",
      "beef juice {'beef juice'}\n",
      "popcorn {'popcorn'}\n",
      "frankincense {'frankincense'}\n",
      "barley roasted barley {'barley roasted barley'}\n",
      "valerian root {'valerian root'}\n",
      "asparagus {'asparagus'}\n",
      "pistachio {'pistachio'}\n",
      "turkey {'turkey'}\n",
      "osmanthus {'osmanthus'}\n"
     ]
    }
   ],
   "source": [
    "for n, votees in get_canon_notes_set(50).items():\n",
    "    print(n,votees)"
   ]
  },
  {
   "cell_type": "code",
   "execution_count": 15,
   "id": "d72d4b25-72ce-4bad-bfd3-07e54bc0ff88",
   "metadata": {
    "tags": []
   },
   "outputs": [
    {
     "name": "stdout",
     "output_type": "stream",
     "text": [
      "['cumin', 'floral', 'fruity', 'waxy', 'marine', 'fir needle', 'sweet', 'rose', 'vegetable', 'herbal']\n"
     ]
    }
   ],
   "source": [
    "import sklearn\n",
    "import sklearn.cluster\n",
    "\n",
    "n_clusters = 10\n",
    "clustering = sklearn.cluster.BisectingKMeans(n_clusters=n_clusters).fit(embeddings)\n",
    "freqs = [collections.Counter() for _ in range(n_clusters)]\n",
    "for i, l in enumerate(clustering.labels_):\n",
    "    n,f = list(all_single_notes.items())[i]\n",
    "    freqs[l][n] = f\n",
    "print([f.most_common(1)[0][0] for f in freqs])"
   ]
  },
  {
   "cell_type": "code",
   "execution_count": 70,
   "id": "f915484f-6b0e-4aaa-954e-13c8ca249aff",
   "metadata": {
    "tags": []
   },
   "outputs": [
    {
     "name": "stdout",
     "output_type": "stream",
     "text": [
      "Cluster 1: 22\n",
      "Cluster 2: 29\n",
      "Cluster 3: 23\n",
      "Cluster 4: 17\n",
      "Cluster 5: 9\n"
     ]
    }
   ],
   "source": [
    "import numpy as np\n",
    "from sklearn.cluster import KMeans\n",
    "\n",
    "def weighted_bisecting_kmeans(data, weights, k, max_iterations=100):\n",
    "    idcs = np.arange(len(data))\n",
    "    clusters = [(data, weights, idcs)]  # Initial cluster with the entire dataset and weights\n",
    "\n",
    "    while len(clusters) < k:\n",
    "        def weighted_sse(cluster,weights):\n",
    "            return np.sum((cluster - np.average(cluster, axis=0, weights=weights))**2)\n",
    "            \n",
    "        # Choose the cluster to bisect (the one with the highest weighted SSE)\n",
    "        cluster_by_sse = collections.Counter({i:weighted_sse(cluster,weight) for i, (cluster,weight, _) in enumerate(clusters)})\n",
    "        idx_to_bisect = cluster_by_sse.most_common(1)[0][0]\n",
    "        cluster_to_bisect, weights_to_bisect, idcs_to_bisect = clusters[idx_to_bisect]\n",
    "\n",
    "        # Apply k-means clustering to bisect the chosen cluster\n",
    "        kmeans = KMeans(n_clusters=2, max_iter=max_iterations, n_init=\"auto\")\n",
    "        kmeans.fit(cluster_to_bisect, sample_weight=weights_to_bisect)\n",
    "\n",
    "        # Separate the cluster into two subsets based on k-means results\n",
    "        labels = kmeans.labels_\n",
    "        subset_1 = (cluster_to_bisect[labels == 0], weights_to_bisect[labels == 0], idcs_to_bisect[labels == 0])\n",
    "        subset_2 = (cluster_to_bisect[labels == 1], weights_to_bisect[labels == 1], idcs_to_bisect[labels == 1])\n",
    "\n",
    "        # Update the list of clusters\n",
    "        clusters.pop(idx_to_bisect)\n",
    "        clusters.extend([subset_1, subset_2])\n",
    "\n",
    "    return clusters\n",
    "\n",
    "# Example usage\n",
    "data = np.random.rand(100, 2)  # Replace with your dataset\n",
    "weights = np.random.rand(100)   # Replace with your weights\n",
    "k = 5  # Number of clusters\n",
    "\n",
    "resulting_clusters = weighted_bisecting_kmeans(data, weights, k)\n",
    "\n",
    "# Print the resulting clusters\n",
    "for i, (cluster, _, _) in enumerate(resulting_clusters):\n",
    "    print(f\"Cluster {i + 1}:\", len(cluster))"
   ]
  },
  {
   "cell_type": "code",
   "execution_count": 137,
   "id": "2055ee45-2afe-4847-9982-b335b2b80c0d",
   "metadata": {
    "tags": []
   },
   "outputs": [
    {
     "name": "stdout",
     "output_type": "stream",
     "text": [
      "Cluster 1: 178\n",
      "Cluster 2: 97\n",
      "Cluster 3: 221\n",
      "['fruity', 'balsamic', 'sweet']\n"
     ]
    }
   ],
   "source": [
    "n_clusters = 3\n",
    "weights = np.array(list(all_single_notes.values()))\n",
    "resulting_clusters = weighted_bisecting_kmeans(embeddings, weights, n_clusters)\n",
    "\n",
    "# Print the resulting clusters\n",
    "freqs = [collections.Counter() for _ in range(n_clusters)]\n",
    "for i, (cluster, _, idcs) in enumerate(resulting_clusters):\n",
    "    print(f\"Cluster {i + 1}:\", len(cluster))\n",
    "    for nidx in idcs:\n",
    "        n,f = list(all_single_notes.items())[nidx]\n",
    "        freqs[i][n] = f\n",
    "\n",
    "print([f.most_common(1)[0][0] for f in freqs])"
   ]
  },
  {
   "cell_type": "code",
   "execution_count": 307,
   "id": "d4eea17a-de04-4356-9970-f3ff0df13148",
   "metadata": {
    "tags": []
   },
   "outputs": [
    {
     "name": "stderr",
     "output_type": "stream",
     "text": [
      "100%|████████████████████████████████████████████| 5000/5000 [00:52<00:00, 95.58it/s]\n"
     ]
    },
    {
     "data": {
      "text/plain": [
       "['musty',\n",
       " 'juicy fruit',\n",
       " 'vegetable',\n",
       " 'fruity',\n",
       " 'cedarwood',\n",
       " 'chemical',\n",
       " 'almond',\n",
       " 'citrus',\n",
       " 'chicken',\n",
       " 'sugar']"
      ]
     },
     "metadata": {},
     "output_type": "display_data"
    },
    {
     "name": "stderr",
     "output_type": "stream",
     "text": [
      "100%|███████████████████████████████████████████| 5000/5000 [00:49<00:00, 100.87it/s]\n"
     ]
    },
    {
     "data": {
      "text/plain": [
       "['musty',\n",
       " 'juicy fruit',\n",
       " 'vegetable',\n",
       " 'cedarwood',\n",
       " 'fruity',\n",
       " 'chemical',\n",
       " 'almond',\n",
       " 'citrus',\n",
       " 'chicken',\n",
       " 'sugar']"
      ]
     },
     "metadata": {},
     "output_type": "display_data"
    },
    {
     "name": "stderr",
     "output_type": "stream",
     "text": [
      "100%|████████████████████████████████████████████| 5000/5000 [00:55<00:00, 89.87it/s]\n"
     ]
    },
    {
     "data": {
      "text/plain": [
       "['musty',\n",
       " 'juicy fruit',\n",
       " 'vegetable',\n",
       " 'fruity',\n",
       " 'cedarwood',\n",
       " 'chemical',\n",
       " 'almond',\n",
       " 'citrus',\n",
       " 'chicken',\n",
       " 'sugar']"
      ]
     },
     "metadata": {},
     "output_type": "display_data"
    }
   ],
   "source": [
    "import sklearn_extra\n",
    "import sklearn_extra.cluster\n",
    "import tqdm\n",
    "\n",
    "def repeated_randomized_clustering(n_clusters,iters=5000):\n",
    "    mediods_freqs = collections.Counter()\n",
    "    alns = list(all_single_notes.keys())\n",
    "    for i in tqdm.tqdm(range(iters)):\n",
    "        clustering = sklearn_extra.cluster.KMedoids(n_clusters=n_clusters,init=\"random\").fit(embeddings,weights)\n",
    "        mediods = [alns[i]  for i in clustering.medoid_indices_]\n",
    "        mediods_freqs.update(mediods)\n",
    "    return mediods_freqs.most_common(n_clusters)\n",
    "    \n",
    "display([k for k,_ in repeated_randomized_clustering(10)])\n",
    "display([k for k,_ in repeated_randomized_clustering(10)])\n",
    "display([k for k,_ in repeated_randomized_clustering(10)])\n",
    "# repeated_randomized_clustering(10)"
   ]
  },
  {
   "cell_type": "code",
   "execution_count": 213,
   "id": "dcfb79d1-f2b3-48a1-aaf8-8c23a77639bb",
   "metadata": {
    "tags": []
   },
   "outputs": [
    {
     "data": {
      "text/plain": [
       "array([  7, 178, 430,  60,  69, 395, 110,   1, 115, 411])"
      ]
     },
     "execution_count": 213,
     "metadata": {},
     "output_type": "execute_result"
    }
   ],
   "source": [
    "clustering = sklearn_extra.cluster.KMedoids(n_clusters=n_clusters).fit(embeddings,weights)\n",
    "clustering.medoid_indices_"
   ]
  }
 ],
 "metadata": {
  "kernelspec": {
   "display_name": "Python 3 (ipykernel)",
   "language": "python",
   "name": "python3"
  },
  "language_info": {
   "codemirror_mode": {
    "name": "ipython",
    "version": 3
   },
   "file_extension": ".py",
   "mimetype": "text/x-python",
   "name": "python",
   "nbconvert_exporter": "python",
   "pygments_lexer": "ipython3",
   "version": "3.11.5"
  }
 },
 "nbformat": 4,
 "nbformat_minor": 5
}
