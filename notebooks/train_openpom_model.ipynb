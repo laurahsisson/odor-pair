{
 "cells": [
  {
   "cell_type": "markdown",
   "metadata": {},
   "source": [
    "### Example script for training MPNN-POM model"
   ]
  },
  {
   "cell_type": "code",
   "execution_count": 24,
   "metadata": {},
   "outputs": [
    {
     "name": "stdout",
     "output_type": "stream",
     "text": [
      "Requirement already satisfied: openpom in /home/ary2260/miniconda3/envs/odor_pom/lib/python3.9/site-packages (0.2.2)\n",
      "Requirement already satisfied: pyrfume in /home/ary2260/miniconda3/envs/odor_pom/lib/python3.9/site-packages (from openpom) (0.18.4)\n",
      "Requirement already satisfied: pandas in /home/ary2260/miniconda3/envs/odor_pom/lib/python3.9/site-packages (from openpom) (2.0.3)\n",
      "Requirement already satisfied: numpy in /home/ary2260/miniconda3/envs/odor_pom/lib/python3.9/site-packages (from openpom) (1.25.1)\n",
      "Requirement already satisfied: rdkit in /home/ary2260/miniconda3/envs/odor_pom/lib/python3.9/site-packages (from openpom) (2023.3.2)\n",
      "Requirement already satisfied: deepchem in /home/ary2260/miniconda3/envs/odor_pom/lib/python3.9/site-packages (from openpom) (2.7.2.dev20230719055234)\n",
      "Requirement already satisfied: torch in /home/ary2260/miniconda3/envs/odor_pom/lib/python3.9/site-packages (from openpom) (2.0.1)\n",
      "Requirement already satisfied: torchvision in /home/ary2260/miniconda3/envs/odor_pom/lib/python3.9/site-packages (from openpom) (0.15.2)\n",
      "Requirement already satisfied: torchaudio in /home/ary2260/miniconda3/envs/odor_pom/lib/python3.9/site-packages (from openpom) (2.0.2)\n",
      "Requirement already satisfied: dgllife in /home/ary2260/miniconda3/envs/odor_pom/lib/python3.9/site-packages (from openpom) (0.3.2)\n",
      "Requirement already satisfied: pytest in /home/ary2260/miniconda3/envs/odor_pom/lib/python3.9/site-packages (from openpom) (7.4.0)\n",
      "Requirement already satisfied: ipykernel in /home/ary2260/miniconda3/envs/odor_pom/lib/python3.9/site-packages (from openpom) (6.24.0)\n",
      "Requirement already satisfied: scikit-multilearn in /home/ary2260/miniconda3/envs/odor_pom/lib/python3.9/site-packages (from openpom) (0.2.0)\n",
      "Requirement already satisfied: joblib in /home/ary2260/.local/lib/python3.9/site-packages (from deepchem->openpom) (1.3.2)\n",
      "Requirement already satisfied: scikit-learn in /home/ary2260/miniconda3/envs/odor_pom/lib/python3.9/site-packages (from deepchem->openpom) (1.3.0)\n",
      "Requirement already satisfied: scipy>=1.10.1 in /home/ary2260/miniconda3/envs/odor_pom/lib/python3.9/site-packages (from deepchem->openpom) (1.11.1)\n",
      "Requirement already satisfied: requests>=2.22.0 in /home/ary2260/miniconda3/envs/odor_pom/lib/python3.9/site-packages (from dgllife->openpom) (2.31.0)\n",
      "Requirement already satisfied: tqdm in /home/ary2260/miniconda3/envs/odor_pom/lib/python3.9/site-packages (from dgllife->openpom) (4.65.0)\n",
      "Requirement already satisfied: networkx>=2.1 in /home/ary2260/miniconda3/envs/odor_pom/lib/python3.9/site-packages (from dgllife->openpom) (2.6.3)\n",
      "Requirement already satisfied: hyperopt in /home/ary2260/miniconda3/envs/odor_pom/lib/python3.9/site-packages (from dgllife->openpom) (0.2.7)\n",
      "Requirement already satisfied: comm>=0.1.1 in /home/ary2260/miniconda3/envs/odor_pom/lib/python3.9/site-packages (from ipykernel->openpom) (0.1.3)\n",
      "Requirement already satisfied: debugpy>=1.6.5 in /home/ary2260/miniconda3/envs/odor_pom/lib/python3.9/site-packages (from ipykernel->openpom) (1.6.7)\n",
      "Requirement already satisfied: ipython>=7.23.1 in /home/ary2260/miniconda3/envs/odor_pom/lib/python3.9/site-packages (from ipykernel->openpom) (8.14.0)\n",
      "Requirement already satisfied: jupyter-client>=6.1.12 in /home/ary2260/miniconda3/envs/odor_pom/lib/python3.9/site-packages (from ipykernel->openpom) (8.3.0)\n",
      "Requirement already satisfied: jupyter-core!=5.0.*,>=4.12 in /home/ary2260/miniconda3/envs/odor_pom/lib/python3.9/site-packages (from ipykernel->openpom) (5.3.1)\n",
      "Requirement already satisfied: matplotlib-inline>=0.1 in /home/ary2260/miniconda3/envs/odor_pom/lib/python3.9/site-packages (from ipykernel->openpom) (0.1.6)\n",
      "Requirement already satisfied: nest-asyncio in /home/ary2260/miniconda3/envs/odor_pom/lib/python3.9/site-packages (from ipykernel->openpom) (1.5.6)\n",
      "Requirement already satisfied: packaging in /home/ary2260/miniconda3/envs/odor_pom/lib/python3.9/site-packages (from ipykernel->openpom) (23.1)\n",
      "Requirement already satisfied: psutil in /home/ary2260/miniconda3/envs/odor_pom/lib/python3.9/site-packages (from ipykernel->openpom) (5.9.5)\n",
      "Requirement already satisfied: pyzmq>=20 in /home/ary2260/miniconda3/envs/odor_pom/lib/python3.9/site-packages (from ipykernel->openpom) (25.1.0)\n",
      "Requirement already satisfied: tornado>=6.1 in /home/ary2260/miniconda3/envs/odor_pom/lib/python3.9/site-packages (from ipykernel->openpom) (6.3.2)\n",
      "Requirement already satisfied: traitlets>=5.4.0 in /home/ary2260/miniconda3/envs/odor_pom/lib/python3.9/site-packages (from ipykernel->openpom) (5.9.0)\n",
      "Requirement already satisfied: python-dateutil>=2.8.2 in /home/ary2260/miniconda3/envs/odor_pom/lib/python3.9/site-packages (from pandas->openpom) (2.8.2)\n",
      "Requirement already satisfied: pytz>=2020.1 in /home/ary2260/miniconda3/envs/odor_pom/lib/python3.9/site-packages (from pandas->openpom) (2023.3)\n",
      "Requirement already satisfied: tzdata>=2022.1 in /home/ary2260/miniconda3/envs/odor_pom/lib/python3.9/site-packages (from pandas->openpom) (2023.3)\n",
      "Requirement already satisfied: PubChemPy<2.0.0,>=1.0.4 in /home/ary2260/miniconda3/envs/odor_pom/lib/python3.9/site-packages (from pyrfume->openpom) (1.0.4)\n",
      "Requirement already satisfied: datajoint>0.12 in /home/ary2260/miniconda3/envs/odor_pom/lib/python3.9/site-packages (from pyrfume->openpom) (0.14.1)\n",
      "Requirement already satisfied: eden-kernel<0.4.0,>=0.3.1348 in /home/ary2260/miniconda3/envs/odor_pom/lib/python3.9/site-packages (from pyrfume->openpom) (0.3.1350)\n",
      "Requirement already satisfied: mordred<2.0.0,>=1.2.0 in /home/ary2260/miniconda3/envs/odor_pom/lib/python3.9/site-packages (from pyrfume->openpom) (1.2.0)\n",
      "Requirement already satisfied: plotly<6.0.0,>=5.9.0 in /home/ary2260/miniconda3/envs/odor_pom/lib/python3.9/site-packages (from pyrfume->openpom) (5.15.0)\n",
      "Requirement already satisfied: quantities<0.14.0,>=0.13.0 in /home/ary2260/miniconda3/envs/odor_pom/lib/python3.9/site-packages (from pyrfume->openpom) (0.13.0)\n",
      "Requirement already satisfied: rdkit-pypi<2023.0.0,>=2022.3.4 in /home/ary2260/miniconda3/envs/odor_pom/lib/python3.9/site-packages (from pyrfume->openpom) (2022.9.5)\n",
      "Requirement already satisfied: sympy>=1.6 in /home/ary2260/miniconda3/envs/odor_pom/lib/python3.9/site-packages (from pyrfume->openpom) (1.12)\n",
      "Requirement already satisfied: toml<0.11.0,>=0.10.2 in /home/ary2260/miniconda3/envs/odor_pom/lib/python3.9/site-packages (from pyrfume->openpom) (0.10.2)\n",
      "Requirement already satisfied: iniconfig in /home/ary2260/miniconda3/envs/odor_pom/lib/python3.9/site-packages (from pytest->openpom) (2.0.0)\n",
      "Requirement already satisfied: pluggy<2.0,>=0.12 in /home/ary2260/miniconda3/envs/odor_pom/lib/python3.9/site-packages (from pytest->openpom) (1.2.0)\n",
      "Requirement already satisfied: exceptiongroup>=1.0.0rc8 in /home/ary2260/miniconda3/envs/odor_pom/lib/python3.9/site-packages (from pytest->openpom) (1.1.2)\n",
      "Requirement already satisfied: tomli>=1.0.0 in /home/ary2260/miniconda3/envs/odor_pom/lib/python3.9/site-packages (from pytest->openpom) (2.0.1)\n",
      "Requirement already satisfied: Pillow in /home/ary2260/miniconda3/envs/odor_pom/lib/python3.9/site-packages (from rdkit->openpom) (10.0.0)\n",
      "Requirement already satisfied: filelock in /home/ary2260/miniconda3/envs/odor_pom/lib/python3.9/site-packages (from torch->openpom) (3.12.2)\n",
      "Requirement already satisfied: typing-extensions in /home/ary2260/miniconda3/envs/odor_pom/lib/python3.9/site-packages (from torch->openpom) (4.7.1)\n",
      "Requirement already satisfied: jinja2 in /home/ary2260/miniconda3/envs/odor_pom/lib/python3.9/site-packages (from torch->openpom) (3.1.2)\n",
      "Requirement already satisfied: nvidia-cuda-nvrtc-cu11==11.7.99 in /home/ary2260/miniconda3/envs/odor_pom/lib/python3.9/site-packages (from torch->openpom) (11.7.99)\n",
      "Requirement already satisfied: nvidia-cuda-runtime-cu11==11.7.99 in /home/ary2260/miniconda3/envs/odor_pom/lib/python3.9/site-packages (from torch->openpom) (11.7.99)\n",
      "Requirement already satisfied: nvidia-cuda-cupti-cu11==11.7.101 in /home/ary2260/miniconda3/envs/odor_pom/lib/python3.9/site-packages (from torch->openpom) (11.7.101)\n",
      "Requirement already satisfied: nvidia-cudnn-cu11==8.5.0.96 in /home/ary2260/miniconda3/envs/odor_pom/lib/python3.9/site-packages (from torch->openpom) (8.5.0.96)\n",
      "Requirement already satisfied: nvidia-cublas-cu11==11.10.3.66 in /home/ary2260/miniconda3/envs/odor_pom/lib/python3.9/site-packages (from torch->openpom) (11.10.3.66)\n",
      "Requirement already satisfied: nvidia-cufft-cu11==10.9.0.58 in /home/ary2260/miniconda3/envs/odor_pom/lib/python3.9/site-packages (from torch->openpom) (10.9.0.58)\n",
      "Requirement already satisfied: nvidia-curand-cu11==10.2.10.91 in /home/ary2260/miniconda3/envs/odor_pom/lib/python3.9/site-packages (from torch->openpom) (10.2.10.91)\n",
      "Requirement already satisfied: nvidia-cusolver-cu11==11.4.0.1 in /home/ary2260/miniconda3/envs/odor_pom/lib/python3.9/site-packages (from torch->openpom) (11.4.0.1)\n",
      "Requirement already satisfied: nvidia-cusparse-cu11==11.7.4.91 in /home/ary2260/miniconda3/envs/odor_pom/lib/python3.9/site-packages (from torch->openpom) (11.7.4.91)\n",
      "Requirement already satisfied: nvidia-nccl-cu11==2.14.3 in /home/ary2260/miniconda3/envs/odor_pom/lib/python3.9/site-packages (from torch->openpom) (2.14.3)\n",
      "Requirement already satisfied: nvidia-nvtx-cu11==11.7.91 in /home/ary2260/miniconda3/envs/odor_pom/lib/python3.9/site-packages (from torch->openpom) (11.7.91)\n",
      "Requirement already satisfied: triton==2.0.0 in /home/ary2260/miniconda3/envs/odor_pom/lib/python3.9/site-packages (from torch->openpom) (2.0.0)\n",
      "Requirement already satisfied: setuptools in /home/ary2260/miniconda3/envs/odor_pom/lib/python3.9/site-packages (from nvidia-cublas-cu11==11.10.3.66->torch->openpom) (67.8.0)\n",
      "Requirement already satisfied: wheel in /home/ary2260/miniconda3/envs/odor_pom/lib/python3.9/site-packages (from nvidia-cublas-cu11==11.10.3.66->torch->openpom) (0.38.4)\n",
      "Requirement already satisfied: cmake in /home/ary2260/miniconda3/envs/odor_pom/lib/python3.9/site-packages (from triton==2.0.0->torch->openpom) (3.27.0)\n",
      "Requirement already satisfied: lit in /home/ary2260/miniconda3/envs/odor_pom/lib/python3.9/site-packages (from triton==2.0.0->torch->openpom) (16.0.6)\n",
      "Requirement already satisfied: pymysql>=0.7.2 in /home/ary2260/miniconda3/envs/odor_pom/lib/python3.9/site-packages (from datajoint>0.12->pyrfume->openpom) (1.1.0)\n",
      "Requirement already satisfied: pyparsing in /home/ary2260/miniconda3/envs/odor_pom/lib/python3.9/site-packages (from datajoint>0.12->pyrfume->openpom) (3.0.9)\n",
      "Requirement already satisfied: pydot in /home/ary2260/miniconda3/envs/odor_pom/lib/python3.9/site-packages (from datajoint>0.12->pyrfume->openpom) (1.4.2)\n",
      "Requirement already satisfied: minio>=7.0.0 in /home/ary2260/miniconda3/envs/odor_pom/lib/python3.9/site-packages (from datajoint>0.12->pyrfume->openpom) (7.1.15)\n",
      "Requirement already satisfied: matplotlib in /home/ary2260/miniconda3/envs/odor_pom/lib/python3.9/site-packages (from datajoint>0.12->pyrfume->openpom) (3.7.2)\n",
      "Requirement already satisfied: cryptography in /home/ary2260/miniconda3/envs/odor_pom/lib/python3.9/site-packages (from datajoint>0.12->pyrfume->openpom) (41.0.2)\n",
      "Requirement already satisfied: otumat in /home/ary2260/miniconda3/envs/odor_pom/lib/python3.9/site-packages (from datajoint>0.12->pyrfume->openpom) (0.3.1)\n",
      "Requirement already satisfied: urllib3 in /home/ary2260/miniconda3/envs/odor_pom/lib/python3.9/site-packages (from datajoint>0.12->pyrfume->openpom) (2.0.4)\n",
      "Requirement already satisfied: dill in /home/ary2260/miniconda3/envs/odor_pom/lib/python3.9/site-packages (from eden-kernel<0.4.0,>=0.3.1348->pyrfume->openpom) (0.3.7)\n",
      "Requirement already satisfied: future in /home/ary2260/miniconda3/envs/odor_pom/lib/python3.9/site-packages (from eden-kernel<0.4.0,>=0.3.1348->pyrfume->openpom) (0.18.3)\n",
      "Requirement already satisfied: toolz in /home/ary2260/miniconda3/envs/odor_pom/lib/python3.9/site-packages (from eden-kernel<0.4.0,>=0.3.1348->pyrfume->openpom) (0.12.0)\n",
      "Requirement already satisfied: backcall in /home/ary2260/miniconda3/envs/odor_pom/lib/python3.9/site-packages (from ipython>=7.23.1->ipykernel->openpom) (0.2.0)\n",
      "Requirement already satisfied: decorator in /home/ary2260/miniconda3/envs/odor_pom/lib/python3.9/site-packages (from ipython>=7.23.1->ipykernel->openpom) (5.1.1)\n",
      "Requirement already satisfied: jedi>=0.16 in /home/ary2260/miniconda3/envs/odor_pom/lib/python3.9/site-packages (from ipython>=7.23.1->ipykernel->openpom) (0.18.2)\n",
      "Requirement already satisfied: pickleshare in /home/ary2260/miniconda3/envs/odor_pom/lib/python3.9/site-packages (from ipython>=7.23.1->ipykernel->openpom) (0.7.5)\n",
      "Requirement already satisfied: prompt-toolkit!=3.0.37,<3.1.0,>=3.0.30 in /home/ary2260/miniconda3/envs/odor_pom/lib/python3.9/site-packages (from ipython>=7.23.1->ipykernel->openpom) (3.0.39)\n",
      "Requirement already satisfied: pygments>=2.4.0 in /home/ary2260/miniconda3/envs/odor_pom/lib/python3.9/site-packages (from ipython>=7.23.1->ipykernel->openpom) (2.15.1)\n",
      "Requirement already satisfied: stack-data in /home/ary2260/miniconda3/envs/odor_pom/lib/python3.9/site-packages (from ipython>=7.23.1->ipykernel->openpom) (0.6.2)\n",
      "Requirement already satisfied: pexpect>4.3 in /home/ary2260/miniconda3/envs/odor_pom/lib/python3.9/site-packages (from ipython>=7.23.1->ipykernel->openpom) (4.8.0)\n",
      "Requirement already satisfied: importlib-metadata>=4.8.3 in /home/ary2260/miniconda3/envs/odor_pom/lib/python3.9/site-packages (from jupyter-client>=6.1.12->ipykernel->openpom) (6.8.0)\n",
      "Requirement already satisfied: platformdirs>=2.5 in /home/ary2260/miniconda3/envs/odor_pom/lib/python3.9/site-packages (from jupyter-core!=5.0.*,>=4.12->ipykernel->openpom) (3.9.1)\n",
      "Requirement already satisfied: six==1.* in /home/ary2260/miniconda3/envs/odor_pom/lib/python3.9/site-packages (from mordred<2.0.0,>=1.2.0->pyrfume->openpom) (1.16.0)\n",
      "Requirement already satisfied: tenacity>=6.2.0 in /home/ary2260/miniconda3/envs/odor_pom/lib/python3.9/site-packages (from plotly<6.0.0,>=5.9.0->pyrfume->openpom) (8.2.2)\n",
      "Requirement already satisfied: charset-normalizer<4,>=2 in /home/ary2260/miniconda3/envs/odor_pom/lib/python3.9/site-packages (from requests>=2.22.0->dgllife->openpom) (3.2.0)\n",
      "Requirement already satisfied: idna<4,>=2.5 in /home/ary2260/miniconda3/envs/odor_pom/lib/python3.9/site-packages (from requests>=2.22.0->dgllife->openpom) (3.4)\n",
      "Requirement already satisfied: certifi>=2017.4.17 in /home/ary2260/miniconda3/envs/odor_pom/lib/python3.9/site-packages (from requests>=2.22.0->dgllife->openpom) (2023.7.22)\n",
      "Requirement already satisfied: threadpoolctl>=2.0.0 in /home/ary2260/miniconda3/envs/odor_pom/lib/python3.9/site-packages (from scikit-learn->deepchem->openpom) (3.2.0)\n",
      "Requirement already satisfied: mpmath>=0.19 in /home/ary2260/miniconda3/envs/odor_pom/lib/python3.9/site-packages (from sympy>=1.6->pyrfume->openpom) (1.3.0)\n",
      "Requirement already satisfied: cloudpickle in /home/ary2260/miniconda3/envs/odor_pom/lib/python3.9/site-packages (from hyperopt->dgllife->openpom) (2.2.1)\n",
      "Requirement already satisfied: py4j in /home/ary2260/miniconda3/envs/odor_pom/lib/python3.9/site-packages (from hyperopt->dgllife->openpom) (0.10.9.7)\n",
      "Requirement already satisfied: MarkupSafe>=2.0 in /home/ary2260/miniconda3/envs/odor_pom/lib/python3.9/site-packages (from jinja2->torch->openpom) (2.1.3)\n",
      "Requirement already satisfied: zipp>=0.5 in /home/ary2260/miniconda3/envs/odor_pom/lib/python3.9/site-packages (from importlib-metadata>=4.8.3->jupyter-client>=6.1.12->ipykernel->openpom) (3.16.2)\n",
      "Requirement already satisfied: parso<0.9.0,>=0.8.0 in /home/ary2260/miniconda3/envs/odor_pom/lib/python3.9/site-packages (from jedi>=0.16->ipython>=7.23.1->ipykernel->openpom) (0.8.3)\n",
      "Requirement already satisfied: ptyprocess>=0.5 in /home/ary2260/miniconda3/envs/odor_pom/lib/python3.9/site-packages (from pexpect>4.3->ipython>=7.23.1->ipykernel->openpom) (0.7.0)\n",
      "Requirement already satisfied: wcwidth in /home/ary2260/miniconda3/envs/odor_pom/lib/python3.9/site-packages (from prompt-toolkit!=3.0.37,<3.1.0,>=3.0.30->ipython>=7.23.1->ipykernel->openpom) (0.2.6)\n",
      "Requirement already satisfied: cffi>=1.12 in /home/ary2260/miniconda3/envs/odor_pom/lib/python3.9/site-packages (from cryptography->datajoint>0.12->pyrfume->openpom) (1.15.1)\n",
      "Requirement already satisfied: contourpy>=1.0.1 in /home/ary2260/miniconda3/envs/odor_pom/lib/python3.9/site-packages (from matplotlib->datajoint>0.12->pyrfume->openpom) (1.1.0)\n",
      "Requirement already satisfied: cycler>=0.10 in /home/ary2260/miniconda3/envs/odor_pom/lib/python3.9/site-packages (from matplotlib->datajoint>0.12->pyrfume->openpom) (0.11.0)\n",
      "Requirement already satisfied: fonttools>=4.22.0 in /home/ary2260/miniconda3/envs/odor_pom/lib/python3.9/site-packages (from matplotlib->datajoint>0.12->pyrfume->openpom) (4.41.1)\n",
      "Requirement already satisfied: kiwisolver>=1.0.1 in /home/ary2260/miniconda3/envs/odor_pom/lib/python3.9/site-packages (from matplotlib->datajoint>0.12->pyrfume->openpom) (1.4.4)\n",
      "Requirement already satisfied: importlib-resources>=3.2.0 in /home/ary2260/miniconda3/envs/odor_pom/lib/python3.9/site-packages (from matplotlib->datajoint>0.12->pyrfume->openpom) (6.0.0)\n",
      "Requirement already satisfied: flask in /home/ary2260/miniconda3/envs/odor_pom/lib/python3.9/site-packages (from otumat->datajoint>0.12->pyrfume->openpom) (2.3.2)\n",
      "Requirement already satisfied: appdirs in /home/ary2260/miniconda3/envs/odor_pom/lib/python3.9/site-packages (from otumat->datajoint>0.12->pyrfume->openpom) (1.4.4)\n",
      "Requirement already satisfied: watchdog in /home/ary2260/miniconda3/envs/odor_pom/lib/python3.9/site-packages (from otumat->datajoint>0.12->pyrfume->openpom) (3.0.0)\n",
      "Requirement already satisfied: executing>=1.2.0 in /home/ary2260/miniconda3/envs/odor_pom/lib/python3.9/site-packages (from stack-data->ipython>=7.23.1->ipykernel->openpom) (1.2.0)\n",
      "Requirement already satisfied: asttokens>=2.1.0 in /home/ary2260/miniconda3/envs/odor_pom/lib/python3.9/site-packages (from stack-data->ipython>=7.23.1->ipykernel->openpom) (2.2.1)\n",
      "Requirement already satisfied: pure-eval in /home/ary2260/miniconda3/envs/odor_pom/lib/python3.9/site-packages (from stack-data->ipython>=7.23.1->ipykernel->openpom) (0.2.2)\n",
      "Requirement already satisfied: pycparser in /home/ary2260/miniconda3/envs/odor_pom/lib/python3.9/site-packages (from cffi>=1.12->cryptography->datajoint>0.12->pyrfume->openpom) (2.21)\n",
      "Requirement already satisfied: Werkzeug>=2.3.3 in /home/ary2260/miniconda3/envs/odor_pom/lib/python3.9/site-packages (from flask->otumat->datajoint>0.12->pyrfume->openpom) (2.3.6)\n",
      "Requirement already satisfied: itsdangerous>=2.1.2 in /home/ary2260/miniconda3/envs/odor_pom/lib/python3.9/site-packages (from flask->otumat->datajoint>0.12->pyrfume->openpom) (2.1.2)\n",
      "Requirement already satisfied: click>=8.1.3 in /home/ary2260/.local/lib/python3.9/site-packages (from flask->otumat->datajoint>0.12->pyrfume->openpom) (8.1.7)\n",
      "Requirement already satisfied: blinker>=1.6.2 in /home/ary2260/miniconda3/envs/odor_pom/lib/python3.9/site-packages (from flask->otumat->datajoint>0.12->pyrfume->openpom) (1.6.2)\n"
     ]
    }
   ],
   "source": [
    "!pip install openpom"
   ]
  },
  {
   "cell_type": "code",
   "execution_count": 25,
   "metadata": {},
   "outputs": [],
   "source": [
    "import deepchem as dc\n",
    "from openpom.feat.graph_featurizer import GraphFeaturizer, GraphConvConstants\n",
    "from openpom.utils.data_utils import get_class_imbalance_ratio\n",
    "from openpom.models.mpnn_pom import MPNNPOMModel\n",
    "from datetime import datetime"
   ]
  },
  {
   "cell_type": "code",
   "execution_count": 26,
   "metadata": {},
   "outputs": [
    {
     "name": "stdout",
     "output_type": "stream",
     "text": [
      "No of tasks:  33\n"
     ]
    }
   ],
   "source": [
    "TASKS = ['animal', 'berry', 'caramellic', 'citrus', 'earthy',\n",
    "         'ethereal', 'fatty', 'fermented', 'floral', 'fruity',\n",
    "         'green', 'herbal', 'sulfurous', 'tropical', 'vanilla',\n",
    "         'waxy', 'honey', 'aldehydic', 'amber', 'balsamic',\n",
    "         'creamy', 'musk', 'spicy', 'woody', 'minty',\n",
    "         'buttery', 'musty', 'soapy', 'camphoreous', 'alliaceous',\n",
    "         'cooling', 'nutty', 'coffee']\n",
    "print(\"No of tasks: \", len(TASKS))"
   ]
  },
  {
   "cell_type": "code",
   "execution_count": 27,
   "metadata": {},
   "outputs": [],
   "source": [
    "input_file = 'new_open_pom_train.csv'"
   ]
  },
  {
   "cell_type": "code",
   "execution_count": 30,
   "metadata": {},
   "outputs": [],
   "source": [
    "# get dataset\n",
    "\n",
    "featurizer = GraphFeaturizer()\n",
    "smiles_field = 'nonStereoSMILES'\n",
    "loader = dc.data.CSVLoader(tasks=TASKS,\n",
    "                   feature_field=smiles_field,\n",
    "                   featurizer=featurizer)\n",
    "dataset = loader.create_dataset(inputs=[input_file])\n",
    "n_tasks = len(dataset.tasks)"
   ]
  },
  {
   "cell_type": "code",
   "execution_count": 10,
   "metadata": {},
   "outputs": [],
   "source": [
    "smiles_field = 'combined_smiles_non_stereo'\n",
    "loader = dc.data.CSVLoader(tasks=TASKS,\n",
    "                   feature_field=smiles_field,\n",
    "                   featurizer=featurizer)\n",
    "train_mix_dataset = loader.create_dataset(inputs=[\"cleaned_non_stereo_train.csv\"])\n",
    "n_tasks = len(train_mix_dataset.tasks)"
   ]
  },
  {
   "cell_type": "code",
   "execution_count": 31,
   "metadata": {},
   "outputs": [],
   "source": [
    "smiles_field = 'combined_smiles_non_stereo'\n",
    "loader = dc.data.CSVLoader(tasks=TASKS,\n",
    "                   feature_field=smiles_field,\n",
    "                   featurizer=featurizer)\n",
    "test_dataset = loader.create_dataset(inputs=[\"cleaned_non_stereo_test.csv\"])\n",
    "n_tasks = len(test_dataset.tasks)"
   ]
  },
  {
   "cell_type": "code",
   "execution_count": 32,
   "metadata": {},
   "outputs": [
    {
     "data": {
      "text/plain": [
       "4575"
      ]
     },
     "execution_count": 32,
     "metadata": {},
     "output_type": "execute_result"
    }
   ],
   "source": [
    "len(dataset)"
   ]
  },
  {
   "cell_type": "code",
   "execution_count": 33,
   "metadata": {},
   "outputs": [
    {
     "data": {
      "text/plain": [
       "3374"
      ]
     },
     "execution_count": 33,
     "metadata": {},
     "output_type": "execute_result"
    }
   ],
   "source": [
    "len(test_dataset)"
   ]
  },
  {
   "cell_type": "code",
   "execution_count": 13,
   "metadata": {},
   "outputs": [
    {
     "data": {
      "text/plain": [
       "107819"
      ]
     },
     "execution_count": 13,
     "metadata": {},
     "output_type": "execute_result"
    }
   ],
   "source": [
    "len(train_mix_dataset)"
   ]
  },
  {
   "cell_type": "code",
   "execution_count": null,
   "metadata": {},
   "outputs": [],
   "source": [
    "train_dataset = dataset # if you are training on modified openpom dataset (containing single molecules)\n",
    "# train_dataset = train_mix_dataset # if you want to train model on mixture train split"
   ]
  },
  {
   "cell_type": "code",
   "execution_count": 35,
   "metadata": {},
   "outputs": [],
   "source": [
    "train_ratios = get_class_imbalance_ratio(train_dataset)\n",
    "assert len(train_ratios) == n_tasks"
   ]
  },
  {
   "cell_type": "code",
   "execution_count": 36,
   "metadata": {},
   "outputs": [],
   "source": [
    "learning_rate = dc.models.optimizers.ExponentialDecay(initial_rate=0.001, decay_rate=0.5, decay_steps=39*15, staircase=True)\n",
    "# learning_rate = 0.001"
   ]
  },
  {
   "cell_type": "code",
   "execution_count": 40,
   "metadata": {},
   "outputs": [],
   "source": [
    "# initialize model\n",
    "\n",
    "model = MPNNPOMModel(n_tasks = n_tasks,\n",
    "                            batch_size=128,\n",
    "                            learning_rate=learning_rate,\n",
    "                            class_imbalance_ratio = train_ratios,\n",
    "                            loss_aggr_type = 'sum',\n",
    "                            node_out_feats = 100,\n",
    "                            edge_hidden_feats = 75,\n",
    "                            edge_out_feats = 100,\n",
    "                            num_step_message_passing = 5,\n",
    "                            mpnn_residual = True,\n",
    "                            message_aggregator_type = 'sum',\n",
    "                            mode = 'classification',\n",
    "                            number_atom_features = GraphConvConstants.ATOM_FDIM,\n",
    "                            number_bond_features = GraphConvConstants.BOND_FDIM,\n",
    "                            n_classes = 1,\n",
    "                            readout_type = 'set2set',\n",
    "                            num_step_set2set = 3,\n",
    "                            num_layer_set2set = 2,\n",
    "                            ffn_hidden_list= [392, 392],\n",
    "                            ffn_embeddings = 256,\n",
    "                            ffn_activation = 'relu',\n",
    "                            ffn_dropout_p = 0.12,\n",
    "                            ffn_dropout_at_input_no_act = False,\n",
    "                            weight_decay = 1e-5,\n",
    "                            self_loop = False,\n",
    "                            optimizer_name = 'adam',\n",
    "                            log_frequency = 32,\n",
    "                            model_dir = './examples/experiments',\n",
    "                            device_name='cuda')"
   ]
  },
  {
   "cell_type": "code",
   "execution_count": 41,
   "metadata": {},
   "outputs": [],
   "source": [
    "nb_epoch = 45"
   ]
  },
  {
   "cell_type": "code",
   "execution_count": 42,
   "metadata": {},
   "outputs": [],
   "source": [
    "metric = dc.metrics.Metric(dc.metrics.roc_auc_score)\n"
   ]
  },
  {
   "cell_type": "code",
   "execution_count": 47,
   "metadata": {},
   "outputs": [],
   "source": [
    "\n",
    "# import logging\n",
    "\n",
    "# logger = logging.getLogger(__name__)\n",
    "# logging.basicConfig(level=logging.INFO)"
   ]
  },
  {
   "cell_type": "code",
   "execution_count": 43,
   "metadata": {},
   "outputs": [
    {
     "name": "stdout",
     "output_type": "stream",
     "text": [
      "epoch 1/45 ; loss = 2.3011257648468018; train_scores = 0.7126606689029941; valid_scores = 0.7246028180424208\n",
      "epoch 2/45 ; loss = 2.132138252258301; train_scores = 0.7617557715281938; valid_scores = 0.7601062307960406\n",
      "epoch 3/45 ; loss = 2.0171688397725425; train_scores = 0.7755641563982344; valid_scores = 0.7580489580259024\n",
      "epoch 4/45 ; loss = 2.0053622722625732; train_scores = 0.8286394923301179; valid_scores = 0.8178928055158909\n",
      "epoch 5/45 ; loss = 1.9081830978393555; train_scores = 0.8348882112235554; valid_scores = 0.8086176633106111\n",
      "epoch 6/45 ; loss = 1.8842838605244954; train_scores = 0.8386308368403703; valid_scores = 0.8275432756059709\n",
      "epoch 7/45 ; loss = 1.839540754045759; train_scores = 0.8474386807948509; valid_scores = 0.8469135399880737\n",
      "epoch 8/45 ; loss = 1.8109596967697144; train_scores = 0.8596095540594431; valid_scores = 0.8464010309742841\n",
      "epoch 9/45 ; loss = 1.648777723312378; train_scores = 0.8642099855370956; valid_scores = 0.8450410773936735\n",
      "epoch 10/45 ; loss = 1.7369623184204102; train_scores = 0.8538894048834493; valid_scores = 0.830357217531685\n",
      "epoch 11/45 ; loss = 1.694055398305257; train_scores = 0.8670061039754285; valid_scores = 0.845302088661287\n",
      "epoch 12/45 ; loss = 1.6827576160430908; train_scores = 0.8773285045185332; valid_scores = 0.846611371204892\n",
      "epoch 13/45 ; loss = 1.6839054107666016; train_scores = 0.8625412463992577; valid_scores = 0.8380690516838178\n",
      "epoch 14/45 ; loss = 1.6655394236246746; train_scores = 0.8708679858887589; valid_scores = 0.8323357152496885\n",
      "epoch 15/45 ; loss = 1.6374853679112025; train_scores = 0.8823953690102995; valid_scores = 0.8567559649511036\n",
      "epoch 16/45 ; loss = 1.618699312210083; train_scores = 0.8788680882441141; valid_scores = 0.8538135073319084\n",
      "epoch 17/45 ; loss = 1.5836331844329834; train_scores = 0.8932658669883988; valid_scores = 0.859590926328758\n",
      "epoch 18/45 ; loss = 1.5289747714996338; train_scores = 0.8954770789580108; valid_scores = 0.8603253827651423\n",
      "epoch 19/45 ; loss = 1.5133687655131023; train_scores = 0.9016076274255518; valid_scores = 0.8618355446583383\n",
      "epoch 20/45 ; loss = 1.5115176439285278; train_scores = 0.8981521440942298; valid_scores = 0.8565344077876696\n",
      "epoch 21/45 ; loss = 1.4898688316345214; train_scores = 0.900123089265224; valid_scores = 0.8568587663096862\n",
      "epoch 22/45 ; loss = 1.5117006301879883; train_scores = 0.904592965134037; valid_scores = 0.8508509713808652\n",
      "epoch 23/45 ; loss = 1.4913191114153181; train_scores = 0.9000121360132355; valid_scores = 0.8546209116665382\n",
      "epoch 24/45 ; loss = 1.4779149293899536; train_scores = 0.8886446343114598; valid_scores = 0.8471414211326161\n",
      "epoch 25/45 ; loss = 1.373941421508789; train_scores = 0.9084812427745459; valid_scores = 0.8568890888083\n",
      "epoch 26/45 ; loss = 1.4204126596450806; train_scores = 0.9078404155520223; valid_scores = 0.8600911953954493\n",
      "epoch 27/45 ; loss = 1.4206655820210774; train_scores = 0.9103894601267924; valid_scores = 0.8646558499600356\n",
      "epoch 28/45 ; loss = 1.458787441253662; train_scores = 0.9086290275263954; valid_scores = 0.849610880680668\n",
      "epoch 29/45 ; loss = 1.4105856895446778; train_scores = 0.915413736613434; valid_scores = 0.866589338153299\n",
      "epoch 30/45 ; loss = 1.4035542805989583; train_scores = 0.9153376855457078; valid_scores = 0.8586674844041573\n",
      "epoch 31/45 ; loss = 1.4088687896728516; train_scores = 0.9179173896261847; valid_scores = 0.8598226276789397\n",
      "epoch 32/45 ; loss = 1.4006390571594238; train_scores = 0.9131200229235479; valid_scores = 0.855235366867241\n",
      "epoch 33/45 ; loss = 1.311610460281372; train_scores = 0.9250953466998865; valid_scores = 0.8618085097993773\n",
      "epoch 34/45 ; loss = 1.3029247522354126; train_scores = 0.9289284924069575; valid_scores = 0.8672189583762839\n",
      "epoch 35/45 ; loss = 1.288042465845744; train_scores = 0.9297980339508116; valid_scores = 0.8696425096681168\n",
      "epoch 36/45 ; loss = 1.2836333513259888; train_scores = 0.9320674235267964; valid_scores = 0.8622566095103551\n",
      "epoch 37/45 ; loss = 1.2914934158325195; train_scores = 0.9336011071084767; valid_scores = 0.8630295282795122\n",
      "epoch 38/45 ; loss = 1.2742265065511067; train_scores = 0.930203889905924; valid_scores = 0.8646615420626274\n",
      "epoch 39/45 ; loss = 1.2735421316964286; train_scores = 0.9334921809274767; valid_scores = 0.8648844731380539\n",
      "epoch 40/45 ; loss = 1.2558989524841309; train_scores = 0.9359016332951673; valid_scores = 0.8648418892516802\n",
      "epoch 41/45 ; loss = 1.094401478767395; train_scores = 0.9351701213741335; valid_scores = 0.86123742763599\n",
      "epoch 42/45 ; loss = 1.247151255607605; train_scores = 0.9364761563844801; valid_scores = 0.8579544685376135\n",
      "epoch 43/45 ; loss = 1.2231473922729492; train_scores = 0.9384665705272066; valid_scores = 0.8710227533601422\n",
      "epoch 44/45 ; loss = 1.2330201864242554; train_scores = 0.9391891744428262; valid_scores = 0.8685595102140977\n",
      "epoch 45/45 ; loss = 1.2167254447937013; train_scores = 0.9390635097214468; valid_scores = 0.8635458897645911\n"
     ]
    }
   ],
   "source": [
    "start_time = datetime.now()\n",
    "for epoch in range(1, nb_epoch+1):\n",
    "      loss = model.fit(\n",
    "                  train_dataset,\n",
    "                  nb_epoch=1,\n",
    "                  max_checkpoints_to_keep=1,\n",
    "                  deterministic=False,\n",
    "                  restore=epoch>1)\n",
    "      train_scores = model.evaluate(train_dataset, [metric])['roc_auc_score']\n",
    "      test_scores = model.evaluate(test_dataset, [metric])['roc_auc_score']\n",
    "      print(f\"epoch {epoch}/{nb_epoch} ; loss = {loss}; train_scores = {train_scores}; valid_scores = {test_scores}\")\n",
    "model.save_checkpoint()\n",
    "end_time = datetime.now()"
   ]
  },
  {
   "cell_type": "code",
   "execution_count": null,
   "metadata": {},
   "outputs": [],
   "source": [
    "# # if you want to test openpom-model on train_mix_set\n",
    "# train_mix_scores = model.evaluate(train_mix_dataset, [metric])['roc_auc_score']\n",
    "# print(\"time_taken: \", str(end_time-start_time))\n",
    "# print(\"test_score: \", train_mix_scores)"
   ]
  }
 ],
 "metadata": {
  "kernelspec": {
   "display_name": "Python 3 (ipykernel)",
   "language": "python",
   "name": "python3"
  },
  "language_info": {
   "codemirror_mode": {
    "name": "ipython",
    "version": 3
   },
   "file_extension": ".py",
   "mimetype": "text/x-python",
   "name": "python",
   "nbconvert_exporter": "python",
   "pygments_lexer": "ipython3",
   "version": "3.11.5"
  }
 },
 "nbformat": 4,
 "nbformat_minor": 4
}
